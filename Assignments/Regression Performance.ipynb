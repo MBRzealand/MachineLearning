{
 "cells": [
  {
   "cell_type": "markdown",
   "metadata": {
    "collapsed": true,
    "pycharm": {
     "name": "#%% md\n"
    }
   },
   "source": [
    "# Table of Contents\n",
    "[Assignment 1: Regression Performance](#a1)<br>\n",
    "    [Assignment 1: Solution](#a1s)<br>\n",
    "[Assignment 2: Application program, define data and hypothesis](#a2)<br>\n",
    "    [Assignment 2: Solution](#a2s)<br>\n",
    "[Assignment 3: Application plot of data and line](#a3)<br>\n",
    "    [Assignment 3: Solution](#a3s)<br>\n",
    "[Assignment 4: Application program, the data](#a4)<br>\n",
    "    [Assignment 4: Solution](#a4s)<br>\n",
    "[Assignment 5: Function sum of squares](#a5)<br>\n",
    "    [Assignment 5: Solution](#a5s)<br>\n",
    "[Assignment 6: RMSE function](#a6)<br>\n",
    "    [Assignment 6: Solution](#a6s)<br>"
   ]
  },
  {
   "cell_type": "markdown",
   "source": [
    "#### <u>Assignment 1: Regression Performance</u> <a id=\"a1\"></a>\n",
    "Read the 1.5 pages (p. 39-41) in “Aurélien Géron Hands-on Machine Learning” Chapter 2 about\n",
    "“Performance measure”.\n",
    "Discuss the formula for calculating RMSE:\n",
    "\n",
    "<img src=\"https://i.imgur.com/72eSBnC.png\"><br>\n",
    "\n",
    "*Before the serious calculations, we will play a little and try to guess the correct linear regression\n",
    "values.*"
   ],
   "metadata": {
    "collapsed": false,
    "pycharm": {
     "name": "#%% md\n"
    }
   }
  },
  {
   "cell_type": "markdown",
   "source": [
    "#### <u>Assignment 1: Solution</u> <a id=\"a1s\"></a>\n",
    "We can start by explaining what the different variables are:<br>\n",
    "$RMSE$ is an abbreviation of root-mean-square error\n",
    "$i$ is just a variable\n",
    "$m$ is the number of instances in the dataset you are measuring the RMSE on.\n",
    "$x$ is predicted values\n",
    "$y$ is observed values"
   ],
   "metadata": {
    "collapsed": false
   }
  },
  {
   "cell_type": "markdown",
   "source": [
    "#### <u>Assignment 2: Application program, define data and hypothesis</u> <a id=\"a1\"></a>\n",
    "Start Jupyter and create a new file, *RegressionPerformance*.\n",
    "First, import libraries numpy, pandas and matplotlib.pyplot and math.\n",
    "In second cell, declare two lists *x* & *y* of same length\n",
    "\n",
    "```python\n",
    "#Cost per click of individual keywords\n",
    "x = [1.0, 2.1, 2.3, 2.5, 4.1, 4.5, 4.9, 5.9, 8.9]\n",
    "#Total amount of clicks per day\n",
    "y = [48.2, 63.0, 89.0, 71.0, 89.0, 82.2, 70.0, 80.0, 150.0]\n",
    "```\n",
    "\n",
    "In next cell declare two global values for slope and intersection:\n",
    "\n",
    "```python\n",
    "b = 12 # try later 8 9 9.8\n",
    "a = 50 # try later 50 40 44.5\n",
    "```\n",
    "\n",
    "and the hypothesis function, h:\n",
    "\n",
    "```python\n",
    "def h(x):\n",
    "    return b*x + a\n",
    "```\n",
    "\n",
    "Try to call and print h(2)."
   ],
   "metadata": {
    "collapsed": false
   }
  },
  {
   "cell_type": "markdown",
   "source": [
    "#### <u>Assignment 2: Solution</u> <a id=\"a2s\"></a>"
   ],
   "metadata": {
    "collapsed": false,
    "pycharm": {
     "name": "#%% md\n"
    }
   }
  },
  {
   "cell_type": "code",
   "execution_count": 118,
   "outputs": [],
   "source": [
    "import numpy, pandas, matplotlib.pyplot as plot, math"
   ],
   "metadata": {
    "collapsed": false,
    "pycharm": {
     "name": "#%%\n"
    }
   }
  },
  {
   "cell_type": "code",
   "execution_count": 119,
   "outputs": [],
   "source": [
    "x = [1.0, 2.1, 2.3, 2.5, 4.1, 4.5, 4.9, 5.9, 8.9]\n",
    "y = [48.2, 63.0, 89.0, 71.0, 89.0, 82.2, 70.0, 80.0, 150.0]\n",
    "b = 12\n",
    "a = 50"
   ],
   "metadata": {
    "collapsed": false,
    "pycharm": {
     "name": "#%%\n"
    }
   }
  },
  {
   "cell_type": "code",
   "execution_count": 120,
   "outputs": [],
   "source": [
    "def h(x):\n",
    "    return b*x + a"
   ],
   "metadata": {
    "collapsed": false,
    "pycharm": {
     "name": "#%%\n"
    }
   }
  },
  {
   "cell_type": "code",
   "execution_count": 121,
   "outputs": [
    {
     "data": {
      "text/plain": "74"
     },
     "execution_count": 121,
     "metadata": {},
     "output_type": "execute_result"
    }
   ],
   "source": [
    "h(2)"
   ],
   "metadata": {
    "collapsed": false,
    "pycharm": {
     "name": "#%%\n"
    }
   }
  },
  {
   "cell_type": "markdown",
   "source": [
    "#### <u>Assignment 3: Application plot of data and line</u> <a id=\"a1\"></a>\n",
    "Use the plot library and plot the diagram and the data points like you have done before.\n",
    "\n",
    "```python\n",
    "plt.axis([0, 10, 0, 200])\n",
    "plt.scatter(x, y)\n",
    "```\n",
    "\n",
    "Then, use plt.title, plt.xlabel and plt.ylabel to apply text according to the plot on page 2\n",
    "\n",
    "BUT this time utilize the hypothesis function, h, to plot the regression line:\n",
    "\n",
    "```python\n",
    "regression_line = [h(item)for item in [0, 10]]\n",
    "```\n",
    "\n",
    "and hopefully you see:\n",
    "\n",
    "<img src=\"https://i.imgur.com/m5Y7PE4.png\"><br>\n",
    "\n",
    "Try to change the values of a and b and run the code again.\n",
    "Can you manually find a line that fits better by the look.<br>\n",
    "\n",
    "*Now we move on to the RMSE*\n",
    "\n"
   ],
   "metadata": {
    "collapsed": false
   }
  },
  {
   "cell_type": "markdown",
   "source": [
    "#### <u>Assignment 3: Solution</u> <a id=\"a3s\"></a>"
   ],
   "metadata": {
    "collapsed": false
   }
  },
  {
   "cell_type": "code",
   "execution_count": 122,
   "outputs": [
    {
     "data": {
      "text/plain": "[<matplotlib.lines.Line2D at 0x23a0591d3d0>]"
     },
     "execution_count": 122,
     "metadata": {},
     "output_type": "execute_result"
    },
    {
     "data": {
      "text/plain": "<Figure size 432x288 with 1 Axes>",
      "image/png": "[encoded data removed]"
     },
     "metadata": {
      "needs_background": "light"
     },
     "output_type": "display_data"
    }
   ],
   "source": [
    "plot.axis([0, 10, 0, 200])\n",
    "plot.scatter(x, y)\n",
    "plot.title(\"Linear regression\")\n",
    "plot.xlabel(\"Individual keywords\")\n",
    "plot.ylabel(\"Amount of clicks per day\")\n",
    "regression_line = [h(item) for item in [0, 10]]\n",
    "plot.plot([0, 10], regression_line)"
   ],
   "metadata": {
    "collapsed": false,
    "pycharm": {
     "name": "#%%\n"
    }
   }
  },
  {
   "cell_type": "markdown",
   "source": [
    "#### <u>Assignment 4: Application program, the data</u> <a id=\"a4\"></a>\n",
    "We are still using the data:\n",
    "```python\n",
    "x: Cost per click of individual keywords\n",
    "x = [1.0, 2.1, 2.3, 2.5, 4.1, 4.5, 4.9, 5.9, 8.9]\n",
    "\n",
    "y: Total amount of clicks per day\n",
    "y = [48.2, 63.0, 89.0, 71.0, 89.0, 82.2, 70.0, 80.0, 150.0]\n",
    "```"
   ],
   "metadata": {
    "collapsed": false
   }
  },
  {
   "cell_type": "markdown",
   "source": [
    "#### <u>Assignment 4: Solution</u> <a id=\"a4s\"></a>\n",
    "indeed we are"
   ],
   "metadata": {
    "collapsed": false
   }
  },
  {
   "cell_type": "markdown",
   "source": [
    "#### <u>Assignment 5: Function sum of squares</u> <a id=\"a4\"></a>\n",
    "Look at the formula and the inner part. First declare a function, Sum_Of_Squares, to calculate and\n",
    "return the sum of the squares: $(h(x) - y))^2$ of elements in in two lists:\n",
    "\n",
    "```python\n",
    "def Sum_Of_Squares(x, y, hFunc):\n",
    ". . . . .\n",
    " dif = hFunc(numX) - numY\n",
    " xy2.append(dif**2)\n",
    ". . . . . .\n",
    "```\n",
    "\n",
    "Make the rest yourself…\n",
    "\n",
    "Call the function with h as parameter:\n",
    "\n",
    "```python\n",
    "result = Sum_Of_Squares(x, y, h)\n",
    "```\n",
    "\n",
    "and print the value.\n",
    "*Tip: Similar to xySum_Prod from previous assignment.*"
   ],
   "metadata": {
    "collapsed": false
   }
  },
  {
   "cell_type": "markdown",
   "source": [
    "#### <u>Assignment 5: Solution</u> <a id=\"a5s\"></a>"
   ],
   "metadata": {
    "collapsed": false
   }
  },
  {
   "cell_type": "code",
   "execution_count": 123,
   "outputs": [],
   "source": [
    "def Sum_Of_Squares(x, y, hFunc):\n",
    "    xy = []\n",
    "    for num1, num2 in zip(x, y):\n",
    "        xy.append((hFunc(num1)-num2)**2)\n",
    "\n",
    "    return sum(xy)"
   ],
   "metadata": {
    "collapsed": false,
    "pycharm": {
     "name": "#%%\n"
    }
   }
  },
  {
   "cell_type": "code",
   "execution_count": 124,
   "outputs": [
    {
     "data": {
      "text/plain": "4345.840000000002"
     },
     "execution_count": 124,
     "metadata": {},
     "output_type": "execute_result"
    }
   ],
   "source": [
    "Sum_Of_Squares(x,y,h)"
   ],
   "metadata": {
    "collapsed": false,
    "pycharm": {
     "name": "#%%\n"
    }
   }
  },
  {
   "cell_type": "markdown",
   "source": [
    "#### <u>Assignment 6: RMSE function</u> <a id=\"a6\"></a>\n",
    "Declare a function for calculating and returning the value of RMSE.\n",
    "You just need to utilize Sum_Of_Squares, a square root and division by the number of data points:\n",
    "\n",
    "```python\n",
    "def RMSE(x, y, hFunc):\n",
    ". . . . . .\n",
    "```\n",
    "\n",
    "Print out the error for different values of a and b.\n",
    "\n",
    "<u>Afterthoughts</u>\n",
    "*Probably you already used your previous program to find the best fit !*\n",
    "*BUT is linear regression best ?*\n",
    "*Let´s investigate polynomial regression of degree 2.*"
   ],
   "metadata": {
    "collapsed": false
   }
  },
  {
   "cell_type": "markdown",
   "source": [
    "#### <u>Assignment 6: Solution</u> <a id=\"a6s\"></a>"
   ],
   "metadata": {
    "collapsed": false,
    "pycharm": {
     "name": "#%% md\n"
    }
   }
  },
  {
   "cell_type": "code",
   "execution_count": 125,
   "outputs": [],
   "source": [
    "def RMSE(x, y, hFunc):\n",
    "    SOS = Sum_Of_Squares(x,y,hFunc)\n",
    "    return math.sqrt(SOS)/len(x)"
   ],
   "metadata": {
    "collapsed": false,
    "pycharm": {
     "name": "#%%\n"
    }
   }
  },
  {
   "cell_type": "code",
   "execution_count": 126,
   "outputs": [
    {
     "data": {
      "text/plain": "7.324776152143652"
     },
     "execution_count": 126,
     "metadata": {},
     "output_type": "execute_result"
    }
   ],
   "source": [
    "RMSE(x,y,h)"
   ],
   "metadata": {
    "collapsed": false,
    "pycharm": {
     "name": "#%%\n"
    }
   }
  },
  {
   "cell_type": "markdown",
   "source": [],
   "metadata": {
    "collapsed": false
   }
  },
  {
   "cell_type": "markdown",
   "source": [
    "<img src=\"https://i.imgur.com/72eSBnC.png\"><br>"
   ],
   "metadata": {
    "collapsed": false,
    "pycharm": {
     "name": "#%% md\n"
    }
   }
  }
 ],
 "metadata": {
  "kernelspec": {
   "display_name": "Python 3",
   "language": "python",
   "name": "python3"
  },
  "language_info": {
   "codemirror_mode": {
    "name": "ipython",
    "version": 2
   },
   "file_extension": ".py",
   "mimetype": "text/x-python",
   "name": "python",
   "nbconvert_exporter": "python",
   "pygments_lexer": "ipython2",
   "version": "2.7.6"
  }
 },
 "nbformat": 4,
 "nbformat_minor": 0
}