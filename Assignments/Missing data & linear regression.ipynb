{
 "cells": [
  {
   "cell_type": "markdown",
   "metadata": {
    "collapsed": true,
    "pycharm": {
     "name": "#%% md\n"
    }
   },
   "source": [
    "# Table of Contents\n",
    "[Step 1: Establish a Dataframe](#a1)<br>\n",
    "    [Step 1: Solution](#a1s)<br>\n",
    "[Step 2: Keep index and columns](#a2)<br>\n",
    "    [Assignment 2: Solution](#a2s)<br>\n",
    "[Step 3: Perform data cleaning](#a3)<br>\n",
    "    [Step 3: Solution](#a3s)<br>\n",
    "[Step 4: Calculate regression line and plot result](#a4)<br>\n",
    "    [Step 4: Solution](#a4s)<br>"
   ]
  },
  {
   "cell_type": "markdown",
   "source": [
    "#### <u>Step 1: Establish a Dataframe</u> <a id=\"a1\"></a>\n",
    "Start Jupyter Notebook and make a new notebook: LinearRegMissingData\n",
    "Import needed libraries:\n",
    "\n",
    "```python\n",
    "import numpy as np\n",
    "import pandas as pd\n",
    "import matplotlib.pyplot as plt\n",
    "from sklearn.linear_model import LinearRegression\n",
    "```\n",
    "\n",
    "Establish training set as a dataframe:\n",
    "\n",
    "```python\n",
    "clickData = {'CostPerClick': [2.3, 2.1, 2.5, 4.5, 5.9, 4.1, 8.9],\n",
    " 'TotalClicksPerDay': [89.0,63.0,71.0,np.NaN,80.0,89.0,150.0]}\n",
    "trainingSet = pd.DataFrame(clickData)\n",
    "trainingSet\n",
    "```"
   ],
   "metadata": {
    "collapsed": false
   }
  },
  {
   "cell_type": "markdown",
   "source": [
    "#### <u>Step 1: Solution</u> <a id=\"a1s\"></a>"
   ],
   "metadata": {
    "collapsed": false,
    "pycharm": {
     "name": "#%% md\n"
    }
   }
  },
  {
   "cell_type": "code",
   "execution_count": 33,
   "outputs": [],
   "source": [
    "import numpy as np\n",
    "import pandas as pd\n",
    "import matplotlib.pyplot as plt\n",
    "from sklearn.linear_model import LinearRegression"
   ],
   "metadata": {
    "collapsed": false,
    "pycharm": {
     "name": "#%%\n"
    }
   }
  },
  {
   "cell_type": "code",
   "execution_count": 34,
   "outputs": [
    {
     "data": {
      "text/plain": "   CostPerClick  TotalClicksPerDay\n0           2.3               89.0\n1           2.1               63.0\n2           2.5               71.0\n3           4.5                NaN\n4           5.9               80.0\n5           4.1               89.0\n6           8.9              150.0",
      "text/html": "<div>\n<style scoped>\n    .dataframe tbody tr th:only-of-type {\n        vertical-align: middle;\n    }\n\n    .dataframe tbody tr th {\n        vertical-align: top;\n    }\n\n    .dataframe thead th {\n        text-align: right;\n    }\n</style>\n<table border=\"1\" class=\"dataframe\">\n  <thead>\n    <tr style=\"text-align: right;\">\n      <th></th>\n      <th>CostPerClick</th>\n      <th>TotalClicksPerDay</th>\n    </tr>\n  </thead>\n  <tbody>\n    <tr>\n      <th>0</th>\n      <td>2.3</td>\n      <td>89.0</td>\n    </tr>\n    <tr>\n      <th>1</th>\n      <td>2.1</td>\n      <td>63.0</td>\n    </tr>\n    <tr>\n      <th>2</th>\n      <td>2.5</td>\n      <td>71.0</td>\n    </tr>\n    <tr>\n      <th>3</th>\n      <td>4.5</td>\n      <td>NaN</td>\n    </tr>\n    <tr>\n      <th>4</th>\n      <td>5.9</td>\n      <td>80.0</td>\n    </tr>\n    <tr>\n      <th>5</th>\n      <td>4.1</td>\n      <td>89.0</td>\n    </tr>\n    <tr>\n      <th>6</th>\n      <td>8.9</td>\n      <td>150.0</td>\n    </tr>\n  </tbody>\n</table>\n</div>"
     },
     "execution_count": 34,
     "metadata": {},
     "output_type": "execute_result"
    }
   ],
   "source": [
    "clickData = {'CostPerClick': [2.3, 2.1, 2.5, 4.5, 5.9, 4.1, 8.9],\n",
    "             'TotalClicksPerDay': [89.0,63.0,71.0,np.NaN,80.0,89.0,150.0]}\n",
    "trainingSet = pd.DataFrame(clickData)\n",
    "trainingSet"
   ],
   "metadata": {
    "collapsed": false,
    "pycharm": {
     "name": "#%%\n"
    }
   }
  },
  {
   "cell_type": "markdown",
   "source": [
    "#### <u>Step 2: Keep index and columns</u> <a id=\"a2\"></a>\n",
    "Keep index:\n",
    "\n",
    "```python\n",
    "keptIndex=trainingSet.index\n",
    "keptIndex\n",
    "```\n",
    "\n",
    "Keep columns:\n",
    "```python\n",
    "keptColumns=trainingSet.columns\n",
    "keptColumns\n",
    "```"
   ],
   "metadata": {
    "collapsed": false
   }
  },
  {
   "cell_type": "markdown",
   "source": [
    "#### <u>Step 2: Solution</u> <a id=\"a2s\"></a>"
   ],
   "metadata": {
    "collapsed": false
   }
  },
  {
   "cell_type": "code",
   "execution_count": 35,
   "outputs": [
    {
     "data": {
      "text/plain": "RangeIndex(start=0, stop=7, step=1)"
     },
     "execution_count": 35,
     "metadata": {},
     "output_type": "execute_result"
    }
   ],
   "source": [
    "keptIndex=trainingSet.index\n",
    "keptIndex"
   ],
   "metadata": {
    "collapsed": false,
    "pycharm": {
     "name": "#%%\n"
    }
   }
  },
  {
   "cell_type": "code",
   "execution_count": 36,
   "outputs": [
    {
     "data": {
      "text/plain": "Index(['CostPerClick', 'TotalClicksPerDay'], dtype='object')"
     },
     "execution_count": 36,
     "metadata": {},
     "output_type": "execute_result"
    }
   ],
   "source": [
    "keptColumns=trainingSet.columns\n",
    "keptColumns"
   ],
   "metadata": {
    "collapsed": false,
    "pycharm": {
     "name": "#%%\n"
    }
   }
  },
  {
   "cell_type": "markdown",
   "source": [
    "#### <u>Step 3: Perform data cleaning</u> <a id=\"a3\"></a>\n",
    "Create simple imputer in order to clean data:\n",
    "```python\n",
    "#Missing import of SimpleImputer, find out your self\n",
    "\n",
    "imputer = SimpleImputer(strategy=\"median\")\n",
    "imputer.fit(trainingSet)\n",
    "cleanedData=imputer.transform(trainingSet)\n",
    "cleanedData\n",
    "```\n",
    "\n",
    "Note what happened!\n",
    "\n",
    "Establish cleaned dataset as a Dataframe:\n",
    "\n",
    "```python\n",
    "trainingSetCleaned=pd.DataFrame(cleanedData,columns=keptColumns,\n",
    "index=keptIndex)\n",
    "trainingSetCleaned\n",
    "```"
   ],
   "metadata": {
    "collapsed": false,
    "pycharm": {
     "name": "#%% md\n"
    }
   }
  },
  {
   "cell_type": "markdown",
   "source": [
    "#### <u>Step 3: Solution</u> <a id=\"a3s\"></a>"
   ],
   "metadata": {
    "collapsed": false
   }
  },
  {
   "cell_type": "code",
   "execution_count": 37,
   "outputs": [
    {
     "data": {
      "text/plain": "array([[  2.3,  89. ],\n       [  2.1,  63. ],\n       [  2.5,  71. ],\n       [  4.5,  84.5],\n       [  5.9,  80. ],\n       [  4.1,  89. ],\n       [  8.9, 150. ]])"
     },
     "execution_count": 37,
     "metadata": {},
     "output_type": "execute_result"
    }
   ],
   "source": [
    "from sklearn.impute import SimpleImputer\n",
    "\n",
    "imputer = SimpleImputer(strategy=\"median\")\n",
    "imputer.fit(trainingSet)\n",
    "cleanedData=imputer.transform(trainingSet)\n",
    "cleanedData"
   ],
   "metadata": {
    "collapsed": false,
    "pycharm": {
     "name": "#%%\n"
    }
   }
  },
  {
   "cell_type": "code",
   "execution_count": 38,
   "outputs": [
    {
     "data": {
      "text/plain": "   CostPerClick  TotalClicksPerDay\n0           2.3               89.0\n1           2.1               63.0\n2           2.5               71.0\n3           4.5               84.5\n4           5.9               80.0\n5           4.1               89.0\n6           8.9              150.0",
      "text/html": "<div>\n<style scoped>\n    .dataframe tbody tr th:only-of-type {\n        vertical-align: middle;\n    }\n\n    .dataframe tbody tr th {\n        vertical-align: top;\n    }\n\n    .dataframe thead th {\n        text-align: right;\n    }\n</style>\n<table border=\"1\" class=\"dataframe\">\n  <thead>\n    <tr style=\"text-align: right;\">\n      <th></th>\n      <th>CostPerClick</th>\n      <th>TotalClicksPerDay</th>\n    </tr>\n  </thead>\n  <tbody>\n    <tr>\n      <th>0</th>\n      <td>2.3</td>\n      <td>89.0</td>\n    </tr>\n    <tr>\n      <th>1</th>\n      <td>2.1</td>\n      <td>63.0</td>\n    </tr>\n    <tr>\n      <th>2</th>\n      <td>2.5</td>\n      <td>71.0</td>\n    </tr>\n    <tr>\n      <th>3</th>\n      <td>4.5</td>\n      <td>84.5</td>\n    </tr>\n    <tr>\n      <th>4</th>\n      <td>5.9</td>\n      <td>80.0</td>\n    </tr>\n    <tr>\n      <th>5</th>\n      <td>4.1</td>\n      <td>89.0</td>\n    </tr>\n    <tr>\n      <th>6</th>\n      <td>8.9</td>\n      <td>150.0</td>\n    </tr>\n  </tbody>\n</table>\n</div>"
     },
     "execution_count": 38,
     "metadata": {},
     "output_type": "execute_result"
    }
   ],
   "source": [
    "trainingSetCleaned=pd.DataFrame(cleanedData,columns=keptColumns,index=keptIndex)\n",
    "trainingSetCleaned"
   ],
   "metadata": {
    "collapsed": false,
    "pycharm": {
     "name": "#%%\n"
    }
   }
  },
  {
   "cell_type": "markdown",
   "source": [
    "#### <u>Step 4: Calculate regression line and plot result</u> <a id=\"a4\"></a>\n",
    "ReUse previous code from Simple dataframe & linear regression exercise\n",
    "\n",
    "***Congratulations.***"
   ],
   "metadata": {
    "collapsed": false
   }
  },
  {
   "cell_type": "markdown",
   "source": [
    "#### <u>Step 4: Solution</u> <a id=\"a4s\"></a>"
   ],
   "metadata": {
    "collapsed": false
   }
  },
  {
   "cell_type": "code",
   "execution_count": 39,
   "outputs": [],
   "source": [
    "clickLabels = np.c_[trainingSetCleaned[\"TotalClicksPerDay\"]]\n",
    "clickFeatures = np.c_[trainingSetCleaned[\"CostPerClick\"]]"
   ],
   "metadata": {
    "collapsed": false,
    "pycharm": {
     "name": "#%%\n"
    }
   }
  },
  {
   "cell_type": "code",
   "execution_count": 40,
   "outputs": [
    {
     "data": {
      "text/plain": "LinearRegression()"
     },
     "execution_count": 40,
     "metadata": {},
     "output_type": "execute_result"
    }
   ],
   "source": [
    "lin_reg = LinearRegression()\n",
    "lin_reg.fit(clickFeatures, clickLabels)"
   ],
   "metadata": {
    "collapsed": false,
    "pycharm": {
     "name": "#%%\n"
    }
   }
  },
  {
   "cell_type": "code",
   "execution_count": 41,
   "outputs": [],
   "source": [
    "intersection=lin_reg.intercept_[0]\n",
    "slope=lin_reg.coef_[0][0]"
   ],
   "metadata": {
    "collapsed": false,
    "pycharm": {
     "name": "#%%\n"
    }
   }
  },
  {
   "cell_type": "code",
   "execution_count": 42,
   "outputs": [
    {
     "data": {
      "text/plain": "[<matplotlib.lines.Line2D at 0x21ecbc19df0>]"
     },
     "execution_count": 42,
     "metadata": {},
     "output_type": "execute_result"
    },
    {
     "data": {
      "text/plain": "<Figure size 432x288 with 1 Axes>",
      "image/png": "[encoded data removed]"
     },
     "metadata": {
      "needs_background": "light"
     },
     "output_type": "display_data"
    }
   ],
   "source": [
    "plt.axis([0, 10, 0, 200])\n",
    "plt.scatter(clickFeatures, clickLabels)\n",
    "intersection=lin_reg.intercept_[0]\n",
    "slope=lin_reg.coef_[0]\n",
    "test_line = [(slope*item + intersection) for item in [0, 10]]\n",
    "plt.plot([0, 10], test_line)"
   ],
   "metadata": {
    "collapsed": false,
    "pycharm": {
     "name": "#%%\n"
    }
   }
  }
 ],
 "metadata": {
  "kernelspec": {
   "display_name": "Python 3",
   "language": "python",
   "name": "python3"
  },
  "language_info": {
   "codemirror_mode": {
    "name": "ipython",
    "version": 2
   },
   "file_extension": ".py",
   "mimetype": "text/x-python",
   "name": "python",
   "nbconvert_exporter": "python",
   "pygments_lexer": "ipython2",
   "version": "2.7.6"
  }
 },
 "nbformat": 4,
 "nbformat_minor": 0
}