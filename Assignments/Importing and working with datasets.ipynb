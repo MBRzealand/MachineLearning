{
 "cells": [
  {
   "cell_type": "markdown",
   "metadata": {},
   "source": [
    "# Table of Contents\n",
    "[Assignment 1: Reading csv-file to a Pandas DataFrame in Jupyter Notebook](#a1)<br>\n",
    "    [Assignment 1: Solution](#a1s)<br>"
   ]
  },
  {
   "cell_type": "markdown",
   "metadata": {},
   "source": [
    "#### <u>Assignment 1: Reading csv-file to a Pandas DataFrame in Jupyter Notebook</u> <a id=\"a1\"></a>\n",
    "Data comes from a source, and in this example, you are to work with data stored in a csv-file. Your\n",
    "assignment is to collect a set of data from the internet, save it in your project directory or in a\n",
    "preferred folder, and read it to a Pandas DataFrame.\n",
    "\n",
    "1. Create a new ipynb-file and name it “housingtest”.\n",
    "2. Navigate to following GitHub - <a>https://github.com/ageron/handson-ml2</a> , clone or download the repository to your PC. When done, you will find a folder named “datasets”. The folder contains different datasets stored as CSV-files. First, we will be working with *housing*.csv (house prices) and later on in other assignments *oecd_bli_2015.csv* (life satisfaction). Note: I downloaded to local C:\\ drive and then copied the whole Github-project to my *OneDrive Zealand*, as Anaconda has directly access to the *OneDrive Zealand* from the project repository.\n",
    "\n",
    "&nbsp;&nbsp;&nbsp;&nbsp;&nbsp;&nbsp;&nbsp;&nbsp;&nbsp;&nbsp;&nbsp;&nbsp;*You now have two options:*\n",
    "&nbsp;&nbsp;&nbsp;&nbsp;&nbsp;&nbsp;&nbsp;&nbsp;&nbsp;&nbsp;&nbsp;&nbsp;&nbsp;&nbsp;&nbsp;&nbsp;&nbsp;&nbsp;&nbsp;&nbsp;&nbsp;&nbsp;&nbsp;&nbsp;*A. Copy the housing.csv directly to your Jupyter project folder, or*\n",
    "&nbsp;&nbsp;&nbsp;&nbsp;&nbsp;&nbsp;&nbsp;&nbsp;&nbsp;&nbsp;&nbsp;&nbsp;&nbsp;&nbsp;&nbsp;&nbsp;&nbsp;&nbsp;&nbsp;&nbsp;&nbsp;&nbsp;&nbsp;&nbsp;*B. Access it from the folder, holding the cloned/downloaded GitHub repository.*\n",
    "\n",
    "3. First Option A: Upload the housing.csv to your solutions-folder:\n",
    "\n",
    "Click “Upload” on the right side of the screen <br>\n",
    "<img src=\"https://i.imgur.com/L3h6ldr.png\">\n",
    "\n",
    "Your file-explorer will now appear. Navigate to your repository. Here you will find a folder named\n",
    "“datasets”. The folder contains different datasets stored as CSV-files. <br>\n",
    "<img src=\"https://i.imgur.com/koDcikh.png\">\n",
    "\n",
    "Choose the housing file, it will now appear in your Jupyter folder.\n",
    "Then you must click *Upload*. <br><br>\n",
    "\n",
    "<img src=\"https://i.imgur.com/77dMMTT.png\">\n",
    "\n",
    "4. In Jupyter, first create a new Notebook.\n",
    "In first cell import pandas (pd) as done previously. Then declare a variable to hold the data by using\n",
    "the pandas’ pd.read_csv function.\n",
    "\n",
    "If you saved the CSV-file in your project folder:\n",
    "\n",
    "```python\n",
    "housing = pd.read_csv(‘housing.csv’)\n",
    "```\n",
    "\n",
    "The CSV-file is now ready to be stored in a data frame. Simply create a DataFrame object as you\n",
    "did in the previous assignment and let it take your data variable as argument.\n",
    "\n",
    "```python\n",
    "df = pd.DataFrame(housing)\n",
    "```\n",
    "\n",
    "The DataFrame you just created contains a lot of data. In order to see just a small fraction call the\n",
    "head() function. It will show you the top five results by default, but you can give an optional\n",
    "number as argument.\n",
    "\n",
    "```python\n",
    "print(df.head())\n",
    "```\n",
    "\n",
    "Your output should look like this. <br>\n",
    "<img src=\"https://i.imgur.com/jn9zNN7.png\">\n",
    "\n",
    "5. Second Option B: If you saved the CSV-file in another folder or directory then You have to\n",
    "specify the path to the .csv file in the folder datasets folder\n",
    "\n",
    "```python\n",
    "housing1 = pd.read_csv(r'C:\\Users\\EASJ\\OneDrive……\\handson-ml2-master\\datasets\\housing\\housing.csv')\n",
    "```\n",
    "\n",
    "Remember to add the file name and extension, as the last part of the path.\n",
    "Then in the cell type:\n",
    "\n",
    "```python\n",
    "df1 = pd.DataFrame(housing1)\n",
    "print(df1)\n",
    "```\n",
    "Try to run, hopefully you get the same output as before.\n",
    "\n",
    "UPS: Did you forget the r’C:\\ ??\n"
   ]
  },
  {
   "cell_type": "markdown",
   "metadata": {},
   "source": [
    "#### <u>Assignment 1: Solution</u> <a id=\"a1s\"></a>"
   ]
  },
  {
   "cell_type": "code",
   "execution_count": 5,
   "metadata": {
    "collapsed": true
   },
   "outputs": [],
   "source": [
    "import pandas as pd\n",
    "housing = pd.read_csv(\"datasets/housing/housing.csv\")"
   ]
  },
  {
   "cell_type": "code",
   "execution_count": 6,
   "outputs": [
    {
     "name": "stdout",
     "output_type": "stream",
     "text": [
      "   longitude  latitude  housing_median_age  total_rooms  total_bedrooms  \\\n",
      "0    -122.23     37.88                41.0        880.0           129.0   \n",
      "1    -122.22     37.86                21.0       7099.0          1106.0   \n",
      "2    -122.24     37.85                52.0       1467.0           190.0   \n",
      "3    -122.25     37.85                52.0       1274.0           235.0   \n",
      "4    -122.25     37.85                52.0       1627.0           280.0   \n",
      "\n",
      "   population  households  median_income  median_house_value ocean_proximity  \n",
      "0       322.0       126.0         8.3252            452600.0        NEAR BAY  \n",
      "1      2401.0      1138.0         8.3014            358500.0        NEAR BAY  \n",
      "2       496.0       177.0         7.2574            352100.0        NEAR BAY  \n",
      "3       558.0       219.0         5.6431            341300.0        NEAR BAY  \n",
      "4       565.0       259.0         3.8462            342200.0        NEAR BAY  \n"
     ]
    }
   ],
   "source": [
    "df = pd.DataFrame(housing)\n",
    "print(df.head())"
   ],
   "metadata": {
    "collapsed": false,
    "pycharm": {
     "name": "#%%\n"
    }
   }
  }
 ],
 "metadata": {
  "kernelspec": {
   "display_name": "Python 3 (ipykernel)",
   "language": "python",
   "name": "python3"
  },
  "language_info": {
   "codemirror_mode": {
    "name": "ipython",
    "version": 3
   },
   "file_extension": ".py",
   "mimetype": "text/x-python",
   "name": "python",
   "nbconvert_exporter": "python",
   "pygments_lexer": "ipython3",
   "version": "3.9.7"
  }
 },
 "nbformat": 4,
 "nbformat_minor": 1
}