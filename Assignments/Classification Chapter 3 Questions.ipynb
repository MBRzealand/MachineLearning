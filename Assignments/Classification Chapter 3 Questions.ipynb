{
 "cells": [
  {
   "cell_type": "markdown",
   "metadata": {
    "collapsed": true,
    "pycharm": {
     "name": "#%% md\n"
    }
   },
   "source": [
    "# Table of Contents\n",
    "[Assignment 1](#a1)<br>\n",
    "    [Assignment 1: Solution](#a1s)<br>\n",
    "[Assignment 2](#a2)<br>\n",
    "    [Assignment 2: Solution](#a2s)<br>\n"
   ]
  },
  {
   "cell_type": "markdown",
   "source": [
    "#### <u>Assignment 1</u> <a id=\"a1\"></a>\n",
    "Look at the figure 3.2.\n",
    "What is the number of TN, FP, FN, TP ? That is how many digits in each group ?\n",
    "<img src=\"https://i.imgur.com/1fsq8Ax.png\">\n"
   ],
   "metadata": {
    "collapsed": false
   }
  },
  {
   "cell_type": "markdown",
   "source": [
    "#### <u>Assignment 1: Solution</u> <a id=\"a1s\"></a>\n",
    "True Negative (TN): 5\n",
    "False Negative (FN): 2\n",
    "True Positive (TP): 3\n",
    "False Positive (FP): 1"
   ],
   "metadata": {
    "collapsed": false
   }
  },
  {
   "cell_type": "markdown",
   "source": [
    "#### <u>Assignment 2</u> <a id=\"a2\"></a>\n",
    "State the missing numbers and examples based on figure 3.2.\n",
    "Then calculate the values of P(Precision), R(Recall), TNR(TrueNegativeRate) and FPR(FalsePositiveRate).\n",
    "<img src=\"https://i.imgur.com/fneHd5Q.png\"><br/>\n",
    "Discuss the meaning of the rates.<br/>\n",
    "Which rates should be high/low ?"
   ],
   "metadata": {
    "collapsed": false
   }
  },
  {
   "cell_type": "markdown",
   "source": [
    "#### <u>Assignment 2: Solution</u> <a id=\"a2s\"></a>"
   ],
   "metadata": {
    "collapsed": false
   }
  },
  {
   "cell_type": "code",
   "execution_count": 145,
   "outputs": [],
   "source": [
    "Total = [8,3,9,7,2,6,5,5,5,5,5]\n",
    "FP = [6]\n",
    "FN = [5,5]\n",
    "TN = [8,3,9,7,2]\n",
    "TP = [5,5,5]"
   ],
   "metadata": {
    "collapsed": false,
    "pycharm": {
     "name": "#%%\n"
    }
   }
  },
  {
   "cell_type": "code",
   "execution_count": 146,
   "outputs": [],
   "source": [
    "def calc_P(TP,FP):\n",
    "    return len(TP)/(len(TP)+len(FP))"
   ],
   "metadata": {
    "collapsed": false,
    "pycharm": {
     "name": "#%%\n"
    }
   }
  },
  {
   "cell_type": "code",
   "execution_count": 147,
   "outputs": [],
   "source": [
    "def calc_TPR(TP,FN):\n",
    "    return len(TP)/(len(TP)+len(FN))"
   ],
   "metadata": {
    "collapsed": false,
    "pycharm": {
     "name": "#%%\n"
    }
   }
  },
  {
   "cell_type": "code",
   "execution_count": 148,
   "outputs": [],
   "source": [
    "def calc_TNR(TN,FP):\n",
    "    return len(TN)/(len(TN)+len(FP))"
   ],
   "metadata": {
    "collapsed": false,
    "pycharm": {
     "name": "#%%\n"
    }
   }
  },
  {
   "cell_type": "code",
   "execution_count": 149,
   "outputs": [],
   "source": [
    "def calc_FPR(FP,TN):\n",
    "    return len(FP)/(len(FP)+len(TN))"
   ],
   "metadata": {
    "collapsed": false,
    "pycharm": {
     "name": "#%%\n"
    }
   }
  },
  {
   "cell_type": "code",
   "execution_count": 150,
   "outputs": [],
   "source": [
    "def calc_FNR(FN,TP):\n",
    "    return len(FN)/(len(FN)+len(TP))"
   ],
   "metadata": {
    "collapsed": false,
    "pycharm": {
     "name": "#%%\n"
    }
   }
  },
  {
   "cell_type": "code",
   "execution_count": 151,
   "outputs": [],
   "source": [
    "def calc_F1(TP,FN,FP):\n",
    "    return len(TP)/(len(TP)+(len(FN)+len(FP))/2)"
   ],
   "metadata": {
    "collapsed": false,
    "pycharm": {
     "name": "#%%\n"
    }
   }
  },
  {
   "cell_type": "code",
   "execution_count": 152,
   "outputs": [
    {
     "name": "stdout",
     "output_type": "stream",
     "text": [
      "P:0.75\n",
      "TPR:0.6\n",
      "TNR:0.8333333333333334\n",
      "FPR:0.16666666666666666\n",
      "FNR:0.4\n",
      "F1:0.6666666666666666\n"
     ]
    }
   ],
   "source": [
    "print(\"P:\" + str(calc_P(TP,FP)))\n",
    "print(\"TPR:\" + str(calc_TPR(TP,FN)))\n",
    "print(\"TNR:\" + str(calc_TNR(TN,FP)))\n",
    "print(\"FPR:\" + str(calc_FPR(FP,TN)))\n",
    "print(\"FNR:\" + str(calc_FNR(FN,TP)))\n",
    "print(\"F1:\" + str(calc_F1(TP,FN,FP)))"
   ],
   "metadata": {
    "collapsed": false,
    "pycharm": {
     "name": "#%%\n"
    }
   }
  },
  {
   "cell_type": "markdown",
   "source": [
    "**<u>Discuss the meaning of the rates.<u/>**\n",
    "True Positive Rate (TPR): the rate of how many Positive observations are classified correctly\n",
    "True Negative Rate (TNR): the rate of how many Negative observations are classified correctly\n",
    "False Positive Rate (FPR): the rate of how many Positive observations are classified incorrectly\n",
    "False Negative Rate (FNR): the rate of how many Negative observations are classified incorrectly\n",
    "\n",
    "Harmonic mean (F1): A measure of how accurate a test is\n",
    "\n",
    "**<u>Which rates should be high/low ?<u/>**\n",
    "preferably you'd have high precision P, high TPR, high TNR and low FPR and FNR\n",
    "\n",
    "the last value is the F1 score:\n",
    "<ul>\n",
    "<li>A model will obtain a high F1 score if both Precision and Recall are high</li>\n",
    "<li>A model will obtain a low F1 score if both Precision and Recall are low</li>\n",
    "<li>A model will obtain a medium F1 score if one of Precision and Recall is low and the other is high</li>\n",
    "</ul>\n",
    "\n",
    "we have a F1 score of $\\frac{2}{3}$ which isn't exactly that high. The rest looks fine"
   ],
   "metadata": {
    "collapsed": false
   }
  }
 ],
 "metadata": {
  "kernelspec": {
   "display_name": "Python 3",
   "language": "python",
   "name": "python3"
  },
  "language_info": {
   "codemirror_mode": {
    "name": "ipython",
    "version": 2
   },
   "file_extension": ".py",
   "mimetype": "text/x-python",
   "name": "python",
   "nbconvert_exporter": "python",
   "pygments_lexer": "ipython2",
   "version": "2.7.6"
  }
 },
 "nbformat": 4,
 "nbformat_minor": 0
}