{
 "cells": [
  {
   "cell_type": "markdown",
   "source": [
    "# Table of Contents\n",
    "[Assignment 1: Application program two different lists](#a1)<br>\n",
    "    [Assignment 1: Solution](#a1s)<br>\n",
    "[Assignment 2: Application program 2-dim arrays (list) of numbers](#a2)<br>\n",
    "    [Assignment 2: Solution](#a2s)<br>\n",
    "[Assignment 3: Random numbers](#a3)<br>\n",
    "    [Assignment 3: Solution](#a3s)<br>\n",
    "[Assignment 4: Random function](#a4)<br>\n",
    "    [Assignment 4: Solution](#a4s)<br>\n",
    "[Extra assignment A: For the fast ones only](#aA)<br>\n",
    "    [Extra assignment A: Solution](#aAs)<br>\n",
    "[Extra assignment B: For the fast ones only](#aB)<br>\n",
    "    [Extra assignment B: Solution](#aBs)<br>\n",
    "[Assignment X: Extra reward only for fast ones!](#aX)<br>\n",
    "    [Assignment X: Solution](#aXs)<br>"
   ],
   "metadata": {
    "collapsed": false
   }
  },
  {
   "cell_type": "markdown",
   "source": [
    "#### <u>Assignment 1: Application program two different lists</u> <a id=\"a1\"></a>\n",
    "Start Anaconda and Spyder and create a new file.\n",
    "In the file declare two different lists:\n",
    "```python\n",
    "color = [\"red\", \"big\", \"tasty\"]\n",
    "fruits = [\"apple\", \"banana\", \"cherry\"]\n",
    "```\n",
    "\n",
    "Now for each item in *color* print out each item in *fruits* with the respective color, so the output looks\n",
    "similar to:\n",
    "\n",
    "```python\n",
    "red apple\n",
    "red banana\n",
    "red cherry\n",
    "big apple\n",
    "big banana\n",
    "big cherry\n",
    "tasty apple\n",
    "tasty banana\n",
    "tasty cherry\n",
    "```\n",
    "\n",
    "*Tip: Nested loops!*"
   ],
   "metadata": {
    "collapsed": false
   }
  },
  {
   "cell_type": "markdown",
   "source": [
    "#### <u>Assignment 1: Solution</u> <a id=\"a1s\"></a>"
   ],
   "metadata": {
    "collapsed": false
   }
  },
  {
   "cell_type": "code",
   "execution_count": 532,
   "metadata": {
    "collapsed": true
   },
   "outputs": [],
   "source": [
    "colors = [\"red\", \"big\", \"tasty\"]\n",
    "fruits = [\"apple\", \"banana\", \"cherry\"]"
   ]
  },
  {
   "cell_type": "code",
   "execution_count": 533,
   "outputs": [
    {
     "name": "stdout",
     "output_type": "stream",
     "text": [
      "red apple\n",
      "red banana\n",
      "red cherry\n",
      "big apple\n",
      "big banana\n",
      "big cherry\n",
      "tasty apple\n",
      "tasty banana\n",
      "tasty cherry\n"
     ]
    }
   ],
   "source": [
    "for color in colors:\n",
    "    for fruit in fruits:\n",
    "        print(color + \" \" + fruit)"
   ],
   "metadata": {
    "collapsed": false,
    "pycharm": {
     "name": "#%%\n"
    }
   }
  },
  {
   "cell_type": "markdown",
   "source": [
    "#### <u>Assignment 2: Application program 2-dim arrays (list) of numbers</u> <a id=\"a2\"></a>\n",
    "Lists with sub-lists are actually the Python version of 2-dim arrays.\n",
    "Declare a list with four sub-lists:\n",
    "\n",
    "```python\n",
    "T = [[11, 12, 5, 2], [15, 6, 10], [10, 8, 12, 5], [12,15,8,6]]\n",
    "print(T)\n",
    "```\n",
    "Try:\n",
    "\n",
    "```python\n",
    "T[1][2] = 99\n",
    "```\n",
    "Which element is changed to the value 99? Print out and see if you were right?\n",
    "Add a nested for-loop so for each sub-list, slist, in T print each element, elem, in sub-list."
   ],
   "metadata": {
    "collapsed": false
   }
  },
  {
   "cell_type": "markdown",
   "source": [
    "#### <u>Assignment 2: Solution</u> <a id=\"a2s\"></a>"
   ],
   "metadata": {
    "collapsed": false
   }
  },
  {
   "cell_type": "code",
   "execution_count": 534,
   "outputs": [
    {
     "name": "stdout",
     "output_type": "stream",
     "text": [
      "[[11, 12, 5, 2], [15, 6, 10], [10, 8, 12, 5], [12, 15, 8, 6]]\n"
     ]
    }
   ],
   "source": [
    "T = [[11, 12, 5, 2], [15, 6, 10], [10, 8, 12, 5], [12,15,8,6]]\n",
    "print(T)"
   ],
   "metadata": {
    "collapsed": false,
    "pycharm": {
     "name": "#%%\n"
    }
   }
  },
  {
   "cell_type": "code",
   "execution_count": 535,
   "outputs": [],
   "source": [
    "T[1][2] = 99"
   ],
   "metadata": {
    "collapsed": false,
    "pycharm": {
     "name": "#%%\n"
    }
   }
  },
  {
   "cell_type": "markdown",
   "source": [
    "judging by the index T[1][2] i would assume [1] refers to the 2nd array [15, 6, 10] and then [2] would refer to the 3rd index, thus i would assume 10 is changed to 99"
   ],
   "metadata": {
    "collapsed": false,
    "pycharm": {
     "name": "#%% md\n"
    }
   }
  },
  {
   "cell_type": "code",
   "execution_count": 536,
   "outputs": [
    {
     "name": "stdout",
     "output_type": "stream",
     "text": [
      "[[11, 12, 5, 2], [15, 6, 99], [10, 8, 12, 5], [12, 15, 8, 6]]\n"
     ]
    }
   ],
   "source": [
    "print(T)"
   ],
   "metadata": {
    "collapsed": false,
    "pycharm": {
     "name": "#%%\n"
    }
   }
  },
  {
   "cell_type": "code",
   "execution_count": 537,
   "outputs": [
    {
     "name": "stdout",
     "output_type": "stream",
     "text": [
      "11\n",
      "12\n",
      "5\n",
      "2\n",
      "15\n",
      "6\n",
      "99\n",
      "10\n",
      "8\n",
      "12\n",
      "5\n",
      "12\n",
      "15\n",
      "8\n",
      "6\n"
     ]
    }
   ],
   "source": [
    "for array in T:\n",
    "    for element in array:\n",
    "        print(element)"
   ],
   "metadata": {
    "collapsed": false,
    "pycharm": {
     "name": "#%%\n"
    }
   }
  },
  {
   "cell_type": "markdown",
   "source": [
    "#### <u>Assignment 3: Random numbers</u> <a id=\"a3\"></a>\n",
    "You are to do a program, which can initialize an integer list holding 10 elements of random\n",
    "numbers in the interval [0,100] using the module *random*.\n",
    "Your program must resemble the following template:\n",
    "\n",
    "```python\n",
    "import random\n",
    "data = [] # create an empty list\n",
    "while len(data) < 10:\n",
    "    randNo= random.randint(0,100)\n",
    "    data.append(randNo)\n",
    "print(data)\n",
    "```"
   ],
   "metadata": {
    "collapsed": false
   }
  },
  {
   "cell_type": "markdown",
   "source": [
    "#### <u>Assignment 3: Solution</u> <a id=\"a3s\"></a>"
   ],
   "metadata": {
    "collapsed": false
   }
  },
  {
   "cell_type": "code",
   "execution_count": 538,
   "outputs": [
    {
     "name": "stdout",
     "output_type": "stream",
     "text": [
      "[22, 99, 21, 7, 8, 32, 51, 85, 38, 56]\n"
     ]
    }
   ],
   "source": [
    "import random as rand\n",
    "array = []\n",
    "while len(array) < 10:\n",
    "    randNum= rand.randint(0,100)\n",
    "    array.append(randNum)\n",
    "print(array)"
   ],
   "metadata": {
    "collapsed": false,
    "pycharm": {
     "name": "#%%\n"
    }
   }
  },
  {
   "cell_type": "markdown",
   "source": [
    "#### <u>Assignment 4: Random function</u> <a id=\"a4\"></a>\n",
    "Create your own random method, which returns a list of random numbers.\n",
    "\n",
    "```python\n",
    "def rand_func():\n",
    ". . . . . . .\n",
    "```"
   ],
   "metadata": {
    "collapsed": false
   }
  },
  {
   "cell_type": "markdown",
   "source": [
    "#### <u>Assignment 4: Solution</u> <a id=\"a4s\"></a>"
   ],
   "metadata": {
    "collapsed": false
   }
  },
  {
   "cell_type": "code",
   "execution_count": 539,
   "outputs": [],
   "source": [
    "def rand_func():\n",
    "    array = []\n",
    "    while len(array) < 10:\n",
    "        randNum= rand.randint(0,100)\n",
    "        array.append(randNum)\n",
    "    return array"
   ],
   "metadata": {
    "collapsed": false,
    "pycharm": {
     "name": "#%%\n"
    }
   }
  },
  {
   "cell_type": "code",
   "execution_count": 540,
   "outputs": [
    {
     "name": "stdout",
     "output_type": "stream",
     "text": [
      "[12, 31, 69, 23, 91, 85, 13, 100, 71, 27]\n"
     ]
    }
   ],
   "source": [
    "print(rand_func())"
   ],
   "metadata": {
    "collapsed": false,
    "pycharm": {
     "name": "#%%\n"
    }
   }
  },
  {
   "cell_type": "markdown",
   "source": [
    "#### <u>Extra assignment A: For the fast ones only</u> <a id=\"aA\"></a>\n",
    "Look at your *rand_func* method from the assignment.\n",
    "Introduce parameters defining the size of the list and the maximum interger number to be generated?"
   ],
   "metadata": {
    "collapsed": false
   }
  },
  {
   "cell_type": "markdown",
   "source": [
    "#### <u>Extra assignment A: Solution</u> <a id=\"aAs\"></a>"
   ],
   "metadata": {
    "collapsed": false
   }
  },
  {
   "cell_type": "code",
   "execution_count": 541,
   "outputs": [],
   "source": [
    "def rand_func(arraySize, range):\n",
    "    array = []\n",
    "    while len(array) < arraySize:\n",
    "        randNum= rand.randint(0,range)\n",
    "        array.append(randNum)\n",
    "    return array"
   ],
   "metadata": {
    "collapsed": false,
    "pycharm": {
     "name": "#%%\n"
    }
   }
  },
  {
   "cell_type": "markdown",
   "source": [
    "the function takes parameters *arraySize* which specifies how many random numbers you get, and *range* which specifies how large the numbers can get.\n",
    "For example:"
   ],
   "metadata": {
    "collapsed": false
   }
  },
  {
   "cell_type": "code",
   "execution_count": 542,
   "outputs": [
    {
     "name": "stdout",
     "output_type": "stream",
     "text": [
      "[39, 235, 326]\n"
     ]
    }
   ],
   "source": [
    "print(rand_func(3,400))"
   ],
   "metadata": {
    "collapsed": false,
    "pycharm": {
     "name": "#%%\n"
    }
   }
  },
  {
   "cell_type": "markdown",
   "source": [
    "#### <u>Extra assignment B: For the fast ones only</u> <a id=\"aB\"></a>\n",
    "What is the following code trying to do? What is wrong in the following code? Fix the problem!\n",
    "```python\n",
    "#t = 11\n",
    "#T1 = [[0]*t]*t\n",
    "#print(T1)\n",
    "#\n",
    "#for i in range(1, 11):\n",
    "#   for j in range(1, 11):\n",
    "#       print(i*j, end = \" \")\n",
    "#       T1[i][j] = i*j\n",
    "#       print(T1[i][j], end = \" \")\n",
    "#   print()\n",
    "#\n",
    "#print(T1)\n",
    "```"
   ],
   "metadata": {
    "collapsed": false
   }
  },
  {
   "cell_type": "markdown",
   "source": [
    "#### <u>Extra assignment B: Solution</u> <a id=\"aBs\"></a>\n",
    "I assume the code is trying to create a matrix containing the additive tables for the numbers between 0 and 10\n",
    "it first creates an array of length 11 which contains arrays of length 11 at each index\n",
    "and then attempts to append the values of the additive tables to each array\n",
    "\n",
    "the error seems to correlate with the following stackoverflow post:\n",
    "<a href = \"https://stackoverflow.com/questions/240178/list-of-lists-changes-reflected-across-sublists-unexpectedly\">https://stackoverflow.com/questions/240178/list-of-lists-changes-reflected-across-sublists-unexpectedly</a>\n",
    "\n",
    "to fix this, the code has to be changed in the following way:"
   ],
   "metadata": {
    "collapsed": false,
    "pycharm": {
     "name": "#%% md\n"
    }
   }
  },
  {
   "cell_type": "code",
   "execution_count": 543,
   "outputs": [
    {
     "name": "stdout",
     "output_type": "stream",
     "text": [
      "[[0, 0, 0, 0, 0, 0, 0, 0, 0, 0, 0], [0, 1, 2, 3, 4, 5, 6, 7, 8, 9, 10], [0, 2, 4, 6, 4, 10, 12, 14, 16, 18, 20], [0, 3, 6, 9, 12, 15, 18, 21, 24, 27, 30], [0, 4, 8, 12, 16, 20, 24, 28, 32, 36, 40], [0, 5, 10, 15, 20, 25, 30, 35, 40, 45, 50], [0, 6, 12, 18, 24, 30, 36, 42, 48, 54, 60], [0, 7, 14, 21, 28, 35, 42, 49, 56, 63, 70], [0, 8, 16, 24, 32, 40, 48, 56, 64, 72, 80], [0, 9, 18, 27, 36, 45, 54, 63, 72, 81, 90], [0, 10, 20, 30, 40, 50, 60, 70, 80, 90, 100]]\n"
     ]
    }
   ],
   "source": [
    "t = 11\n",
    "T1 = [[0]*t for _ in range(t)]\n",
    "# print(T1)\n",
    "\n",
    "for i in range(1, 11):\n",
    "    for j in range(1, 11):\n",
    "        # print(i*j, end = \" \")\n",
    "        T1[i][j] = i*j\n",
    "        # print(T1[i][j], end = \" \")\n",
    "    # print()\n",
    "T1[2][4] = 4\n",
    "print(T1)"
   ],
   "metadata": {
    "collapsed": false,
    "pycharm": {
     "name": "#%%\n"
    }
   }
  },
  {
   "cell_type": "markdown",
   "source": [
    "#### <u>Assignment X: Extra reward only for fast ones!</u> <a id=\"aX\"></a>\n",
    "Here we want to calculate some numbers called Fibonacci numbers and save them in a list. The\n",
    "numbers are defined as:\n",
    "\n",
    "```python\n",
    "i y[i]\n",
    "0 0\n",
    "1 1\n",
    "2 1 = 1+0\n",
    "3 2 = 1+1\n",
    "4 3 = 1+2\n",
    "5 5 = 3+2\n",
    "6 8 = 5+3\n",
    "7 13= 8+5\n",
    "........\n",
    "```\n",
    "\n",
    "As you can see a Fibonacci number from a certain point is the sum of the two previous numbers.\n",
    "Do a loop so the respective elements in y is assigned the sum of the two previous elements.!!\n",
    "*Hint:* y[i] = ask the teacher !\n",
    "\n"
   ],
   "metadata": {
    "collapsed": false,
    "pycharm": {
     "name": "#%% md\n"
    }
   }
  },
  {
   "cell_type": "markdown",
   "source": [
    "#### <u>Assignment X: Solution</u> <a id=\"aXs\"></a>"
   ],
   "metadata": {
    "collapsed": false,
    "pycharm": {
     "name": "#%% md\n"
    }
   }
  },
  {
   "cell_type": "code",
   "execution_count": 544,
   "outputs": [],
   "source": [
    "def fibonacciSeq(arraySize):\n",
    "    y = []\n",
    "    x = 0\n",
    "\n",
    "    if arraySize == 1:\n",
    "        y.append(x)\n",
    "        return y\n",
    "    elif arraySize == 2:\n",
    "        y.append(x)\n",
    "        y.append(x+1)\n",
    "        return y\n",
    "    elif arraySize > 2:\n",
    "        y.append(x)\n",
    "        y.append(x+1)\n",
    "\n",
    "        for i in range(len(y),arraySize):\n",
    "            x = y[len(y)-1] + y[len(y)-2]\n",
    "            y.append(x)\n",
    "\n",
    "        return y\n",
    "    else :\n",
    "        return \"Negative array size not allowed\""
   ],
   "metadata": {
    "collapsed": false,
    "pycharm": {
     "name": "#%%\n"
    }
   }
  },
  {
   "cell_type": "code",
   "execution_count": 545,
   "outputs": [
    {
     "name": "stdout",
     "output_type": "stream",
     "text": [
      "[0, 1, 1, 2, 3, 5, 8, 13, 21, 34, 55, 89]\n"
     ]
    }
   ],
   "source": [
    "print(fibonacciSeq(12))"
   ],
   "metadata": {
    "collapsed": false,
    "pycharm": {
     "name": "#%%\n"
    }
   }
  }
 ],
 "metadata": {
  "kernelspec": {
   "display_name": "Python 3",
   "language": "python",
   "name": "python3"
  },
  "language_info": {
   "codemirror_mode": {
    "name": "ipython",
    "version": 2
   },
   "file_extension": ".py",
   "mimetype": "text/x-python",
   "name": "python",
   "nbconvert_exporter": "python",
   "pygments_lexer": "ipython2",
   "version": "2.7.6"
  }
 },
 "nbformat": 4,
 "nbformat_minor": 0
}