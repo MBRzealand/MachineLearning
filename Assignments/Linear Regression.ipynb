{
 "cells": [
  {
   "cell_type": "markdown",
   "metadata": {
    "collapsed": true,
    "pycharm": {
     "name": "#%% md\n"
    }
   },
   "source": [
    "# Table of Contents\n",
    "[Assignment 1: Math behind linear regression](#a1)<br>\n",
    "    [Assignment 1: Solution](#a1s)<br>\n",
    "[Assignment 2: Application program two different lists](#a2)<br>\n",
    "    [Assignment 2: Solution](#a2s)<br>\n",
    "[Assignment 3: Function sum of products](#a3)<br>\n",
    "    [Assignment 3: Solution](#a3s)<br>\n",
    "[Assignment 4: a, the intersection with the y-axis](#a4)<br>\n",
    "    [Assignment 4: Solution](#a4s)<br>\n",
    "[Assignment 5: b, the slope](#a5)<br>\n",
    "    [Assignment 5: Solution](#a5s)<br>\n",
    "[Assignment 6: Application program](#a6)<br>\n",
    "    [Assignment 6: Solution](#a6s)<br>\n",
    "[Assignment 7: Application plot of data and line](#a7)<br>\n",
    "    [Assignment 7: Solution](#a7s)<br>"
   ]
  },
  {
   "cell_type": "markdown",
   "source": [
    "#### <u>Assignment 1: Math behind linear regression</u> <a id=\"a1\"></a>\n",
    "Read the 3 pages (p. 48- 50) in “Machine Learning For Absolute Beginners” Chapter 6 about “Math\n",
    "behind linear regression”. Also given in Appendix A.\n",
    "Discuss the formula for calculating a and b: <br>\n",
    "<img src=\"https://i.imgur.com/Dg6KDGK.png\">"
   ],
   "metadata": {
    "collapsed": false
   }
  },
  {
   "cell_type": "markdown",
   "source": [
    "#### <u>Assignment 1: Solution</u> <a id=\"a1s\"></a>\n",
    "$$a = \\frac{(\\Sigma y)(\\Sigma x^2) - (\\Sigma x)(\\Sigma xy)}{n(\\Sigma x^2) - (\\Sigma x)^2}$$ <br>\n",
    "$$b = \\frac{n(\\Sigma xy) - (\\Sigma x)(\\Sigma y)}{n(\\Sigma x^2) - (\\Sigma x)^2}$$ <br>\n",
    "\n",
    "without going too deep into math, the two formulas above are formally written: <br>\n",
    "$$\\hat{\\alpha} = \\bar{y}-(\\hat{\\beta} \\bar{x})$$ <br>\n",
    "\n",
    "$$\\hat{\\beta} = \\frac{\\sum_{i-1}^n  (x_i - \\bar{x}) (y_i - \\bar{y}) }{\\sum_{i=1}^n  (x_i - \\bar{x})^2}$$ <br>\n",
    "\n",
    "$\\hat{\\alpha}$ and $\\hat{\\beta}$ are basically variables that provide the best fit for the linear model.\n",
    "\n",
    "if you take an actual dataset the formulas start to resemble whats depicted above a lot more\n",
    "\n",
    "$$\\hat{\\alpha} = \\frac{1}{n} S_y - \\hat{\\beta} \\frac{1}{n} S_x$$\n",
    "$$\\hat{\\beta} = \\frac{nS_{xy} - S_xS_y}{nS_{xx} - S_x^2}$$\n",
    "\n",
    "if we fully extend $\\hat{\\alpha}$ we get:\n",
    "\n",
    "$$\\hat{\\alpha} =  \\frac{1}{n} S_y - \\frac{nS_{xy} - S_xS_y}{nS_{xx} - S_x^2} \\frac{1}{n} S_x$$\n",
    "$$ = \\frac{S_y}{n} - \\frac{(nS_{xy} - S_xS_y)}{(nS_{xx} - S_x^2)} \\frac{S_x}{n}$$\n",
    "$$ = \\frac{S_y}{n} - \\frac{(nS_{xy} - S_xS_y)S_x}{(nS_{xx} - S_x^2)n}$$\n",
    "$$ = \\frac{S_y(nS_{xx} - S_x^2)}{n(nS_{xx} - S_x^2)} - \\frac{(nS_{xy} - S_xS_y)S_x}{n(nS_{xx} - S_x^2)}$$\n",
    "$$ = \\frac{nS_{xx}S_y-S_x^2S_y - nS_{xy}S_x+S_x^2S_y}{n(nS_{xx}-S_x^2)} $$\n",
    "$$ = \\frac{nS_{xx}S_y\\st{-S_x^2S_y} - nS_{xy}S_x\\st{+S_x^2S_y}}{n(nS_{xx}-S_x^2)} $$\n",
    "$$ = \\frac{nS_{xx}S_y - nS_{xy}S_x}{n(nS_{xx}-S_x^2)} $$\n",
    "$$ = \\frac{\\st{n}S_{xx}S_y - \\st{n}S_{xy}S_x}{\\st{n}(nS_{xx}-S_x^2)} $$\n",
    "$$ = \\frac{S_{xx}S_y - S_{xy}S_x}{nS_{xx}-S_x^2} $$\n",
    "\n",
    "hence we have:\n",
    "$$\\hat{\\alpha} = \\frac{S_{xx}S_y - S_{xy}S_x}{nS_{xx}-S_x^2} $$\n",
    "$$\\hat{\\beta} = \\frac{nS_{xy} - S_xS_y}{nS_{xx} - S_x^2}$$\n",
    "\n",
    "if you replace S with $\\Sigma$ you have exactly:\n",
    "$$a = \\frac{(\\Sigma y)(\\Sigma x^2) - (\\Sigma x)(\\Sigma xy)}{n(\\Sigma x^2) - (\\Sigma x)^2}$$ <br>\n",
    "$$b = \\frac{n(\\Sigma xy) - (\\Sigma x)(\\Sigma y)}{n(\\Sigma x^2) - (\\Sigma x)^2}$$ <br>"
   ],
   "metadata": {
    "collapsed": false
   }
  },
  {
   "cell_type": "markdown",
   "source": [
    "#### <u>Assignment 2: Application program two different lists</u> <a id=\"a2\"></a>\n",
    "We start to calculate the product of elements in two lists and append the result to a third list, xy.\n",
    "\n",
    "Start Jupyter and a new file, *LinearRegression*.\n",
    "First, import libraries numpy, pandas and matplotlib.pyplot as plt.\n",
    "In one cell, declare two lists x & y of same length and an empty list, xy, for the product of elements.\n",
    "\n",
    "```python\n",
    "list1 = [1, 2, 5]\n",
    "list2 = [2, 4, 6]\n",
    "xy = []\n",
    "for num1, num2 in zip(list1, list2):\n",
    "    xy.append(num1*num2)\n",
    "print(xy)\n",
    "```\n",
    "\n",
    "Run."
   ],
   "metadata": {
    "collapsed": false
   }
  },
  {
   "cell_type": "markdown",
   "source": [
    "#### <u>Assignment 2: Solution</u> <a id=\"a2s\"></a>"
   ],
   "metadata": {
    "collapsed": false
   }
  },
  {
   "cell_type": "code",
   "execution_count": 881,
   "outputs": [],
   "source": [
    "import numpy as np\n",
    "import pandas as pan\n",
    "import matplotlib.pyplot as plt"
   ],
   "metadata": {
    "collapsed": false,
    "pycharm": {
     "name": "#%%\n"
    }
   }
  },
  {
   "cell_type": "code",
   "execution_count": 882,
   "outputs": [
    {
     "name": "stdout",
     "output_type": "stream",
     "text": [
      "[2, 8, 30]\n"
     ]
    }
   ],
   "source": [
    "list1 = [1, 2, 5]\n",
    "list2 = [2, 4, 6]\n",
    "xy = []\n",
    "for num1, num2 in zip(list1, list2):\n",
    "    xy.append(num1*num2)\n",
    "print(xy)"
   ],
   "metadata": {
    "collapsed": false,
    "pycharm": {
     "name": "#%%\n"
    }
   }
  },
  {
   "cell_type": "markdown",
   "source": [
    "#### <u>Assignment 3: Function sum of products</u> <a id=\"a3\"></a>\n",
    "Declare a function, def xySum_Prod, to calculate and return the sum of product of elements in in\n",
    "two lists:\n",
    "\n",
    "```python\n",
    "def xySum_Prod(list1,list2):\n",
    ". . . . . .\n",
    "```\n",
    "Tip: Similar to assignment 1.\n",
    "Note: *list2* can be the same as *list1*."
   ],
   "metadata": {
    "collapsed": false
   }
  },
  {
   "cell_type": "markdown",
   "source": [
    "#### <u>Assignment 3: Solution</u> <a id=\"a3s\"></a>"
   ],
   "metadata": {
    "collapsed": false
   }
  },
  {
   "cell_type": "code",
   "execution_count": 883,
   "outputs": [],
   "source": [
    "def xySum_Prod(list1,list2):\n",
    "    xy = []\n",
    "    for num1, num2 in zip(list1, list2):\n",
    "        xy.append(num1*num2)\n",
    "    return sum(xy)"
   ],
   "metadata": {
    "collapsed": false,
    "pycharm": {
     "name": "#%%\n"
    }
   }
  },
  {
   "cell_type": "code",
   "execution_count": 884,
   "outputs": [
    {
     "name": "stdout",
     "output_type": "stream",
     "text": [
      "46\n"
     ]
    }
   ],
   "source": [
    "print(xySum_Prod([1,2,3],[9,8,7]))"
   ],
   "metadata": {
    "collapsed": false,
    "pycharm": {
     "name": "#%%\n"
    }
   }
  },
  {
   "cell_type": "markdown",
   "source": [
    "#### <u>Assignment 4: a, the intersection with the y-axis</u> <a id=\"a4\"></a>\n",
    "Declare a function for calculating and returning a\n",
    "\n",
    "```python\n",
    "def find_a(x, y):\n",
    "    n = len(x)\n",
    "\n",
    "    xSum = sum(x)\n",
    "    ySum = sum(y)\n",
    "    xySum = xySum_Prod(x,y)\n",
    "    x2Sum = xySum_Prod(x,x)\n",
    "\n",
    "    a = ((ySum * x2Sum) - .. . . . # fill out the rest yourself.\n",
    "    return a\n",
    "```\n",
    "\n",
    "Call the function for *list1* and *list2*, and print out the result.\n",
    "Is it correct ?\n"
   ],
   "metadata": {
    "collapsed": false
   }
  },
  {
   "cell_type": "markdown",
   "source": [
    "#### <u>Assignment 4: Solution</u> <a id=\"a4s\"></a>"
   ],
   "metadata": {
    "collapsed": false
   }
  },
  {
   "cell_type": "code",
   "execution_count": 885,
   "outputs": [],
   "source": [
    "def find_a(x, y):\n",
    "    n = len(x)\n",
    "\n",
    "    xSum = sum(x)\n",
    "    ySum = sum(y)\n",
    "    xySum = xySum_Prod(x,y)\n",
    "    x2Sum = xySum_Prod(x,x)\n",
    "\n",
    "    a = ((ySum*x2Sum)-(xSum*xySum))/((n*x2Sum) - xSum ** 2)\n",
    "\n",
    "    return a"
   ],
   "metadata": {
    "collapsed": false,
    "pycharm": {
     "name": "#%%\n"
    }
   }
  },
  {
   "cell_type": "code",
   "execution_count": 886,
   "outputs": [
    {
     "name": "stdout",
     "output_type": "stream",
     "text": [
      "1.5384615384615385\n"
     ]
    }
   ],
   "source": [
    "print(find_a(list1,list2))"
   ],
   "metadata": {
    "collapsed": false,
    "pycharm": {
     "name": "#%%\n"
    }
   }
  },
  {
   "cell_type": "markdown",
   "source": [
    "#### <u>Assignment 5: b, the slope</u> <a id=\"a5\"></a>\n",
    "In another cell, declare a function for calculating and returning b, the slope:\n",
    "```python\n",
    "def find_b(x, y):\n",
    ". . . . . . . . . . .\n",
    "```\n",
    "Call the function for *list1* and *list2*, and print out the result.\n",
    "Is it correct ?\n",
    "\n",
    "Tip: Very similar to *find_a*."
   ],
   "metadata": {
    "collapsed": false
   }
  },
  {
   "cell_type": "markdown",
   "source": [
    "#### <u>Assignment 5: Solution</u> <a id=\"a5s\"></a>"
   ],
   "metadata": {
    "collapsed": false
   }
  },
  {
   "cell_type": "code",
   "execution_count": 887,
   "outputs": [],
   "source": [
    "def find_b(x, y):\n",
    "    n = len(x)\n",
    "\n",
    "    xSum = sum(x)\n",
    "    ySum = sum(y)\n",
    "    xySum = xySum_Prod(x,y)\n",
    "    x2Sum = xySum_Prod(x,x)\n",
    "\n",
    "    b = (n*(xySum)-(xSum*ySum))/((n*x2Sum) - xSum ** 2)\n",
    "\n",
    "    return b"
   ],
   "metadata": {
    "collapsed": false,
    "pycharm": {
     "name": "#%%\n"
    }
   }
  },
  {
   "cell_type": "code",
   "execution_count": 888,
   "outputs": [
    {
     "name": "stdout",
     "output_type": "stream",
     "text": [
      "0.9230769230769231\n"
     ]
    }
   ],
   "source": [
    "print(find_b(list1,list2))"
   ],
   "metadata": {
    "collapsed": false,
    "pycharm": {
     "name": "#%%\n"
    }
   }
  },
  {
   "cell_type": "markdown",
   "source": [
    "#### <u>Assignment 6: Application program</u> <a id=\"a6\"></a>\n",
    "Declare two lists, x and y similar to the data in appendix A\n",
    "\n",
    "```python\n",
    "#Cost per click of individual keywords\n",
    "x = [2.3, 2.1, 2.5, 4.5, 5.9, 4.1, 8.9]\n",
    "#Total amount of clicks per day\n",
    "y = [89.0, 63.0, 71.0, 70.0, 80.0, 89.0, 150.0]\n",
    "```\n",
    "Use your functions to calculate a and b on this data set."
   ],
   "metadata": {
    "collapsed": false
   }
  },
  {
   "cell_type": "markdown",
   "source": [
    "#### <u>Assignment 6: Solution</u> <a id=\"a6s\"></a>"
   ],
   "metadata": {
    "collapsed": false,
    "pycharm": {
     "name": "#%% md\n"
    }
   }
  },
  {
   "cell_type": "code",
   "execution_count": 889,
   "outputs": [
    {
     "name": "stdout",
     "output_type": "stream",
     "text": [
      "44.918525007964305\n",
      "9.820802803440571\n"
     ]
    }
   ],
   "source": [
    "x = [2.3, 2.1, 2.5, 4.5, 5.9, 4.1, 8.9]\n",
    "y = [89.0, 63.0, 71.0, 70.0, 80.0, 89.0, 150.0]\n",
    "\n",
    "print(find_a(x,y))\n",
    "print(find_b(x,y))"
   ],
   "metadata": {
    "collapsed": false,
    "pycharm": {
     "name": "#%%\n"
    }
   }
  },
  {
   "cell_type": "markdown",
   "source": [
    "#### <u>Assignment 7: Application program</u> <a id=\"a7\"></a>\n",
    "Use the plot library and plot the diagram and the data points.\n",
    "```python\n",
    "plt.axis([0, 10, 0, 200])\n",
    "plt.scatter(x, y)\n",
    "```\n",
    "Use plt.title, plt.xlabel and plt.ylabel to apply text according to the plot on page 2.\n",
    "First, plot a test_line:\n",
    "```python\n",
    "test_line = [(10.5*item + 38) for item in [0, 10]]\n",
    "plt.plot([0, 10], test_line)\n",
    "```\n",
    "Finally, plot the regression line b*item + a."
   ],
   "metadata": {
    "collapsed": false
   }
  },
  {
   "cell_type": "markdown",
   "source": [
    "#### <u>Assignment 7: Solution</u> <a id=\"a7s\"></a>"
   ],
   "metadata": {
    "collapsed": false,
    "pycharm": {
     "name": "#%% md\n"
    }
   }
  },
  {
   "cell_type": "code",
   "execution_count": 890,
   "outputs": [
    {
     "data": {
      "text/plain": "<matplotlib.collections.PathCollection at 0x2583ad5d9d0>"
     },
     "execution_count": 890,
     "metadata": {},
     "output_type": "execute_result"
    },
    {
     "data": {
      "text/plain": "<Figure size 432x288 with 1 Axes>",
      "image/png": "[encoded data removed]"
     },
     "metadata": {
      "needs_background": "light"
     },
     "output_type": "display_data"
    }
   ],
   "source": [
    "plt.axis([0, 10, 0, 200])\n",
    "plt.scatter(x, y)"
   ],
   "metadata": {
    "collapsed": false,
    "pycharm": {
     "name": "#%%\n"
    }
   }
  },
  {
   "cell_type": "code",
   "execution_count": 891,
   "outputs": [
    {
     "data": {
      "text/plain": "[<matplotlib.lines.Line2D at 0x2583bd8ed60>]"
     },
     "execution_count": 891,
     "metadata": {},
     "output_type": "execute_result"
    },
    {
     "data": {
      "text/plain": "<Figure size 432x288 with 1 Axes>",
      "image/png": "[encoded data removed]"
     },
     "metadata": {
      "needs_background": "light"
     },
     "output_type": "display_data"
    }
   ],
   "source": [
    "test_line = [(10.5*item + 38) for item in [0, 10]]\n",
    "plt.plot([0, 10], test_line)"
   ],
   "metadata": {
    "collapsed": false,
    "pycharm": {
     "name": "#%%\n"
    }
   }
  },
  {
   "cell_type": "code",
   "execution_count": 892,
   "outputs": [
    {
     "data": {
      "text/plain": "[<matplotlib.lines.Line2D at 0x2583bdfc970>]"
     },
     "execution_count": 892,
     "metadata": {},
     "output_type": "execute_result"
    },
    {
     "data": {
      "text/plain": "<Figure size 432x288 with 1 Axes>",
      "image/png": "[encoded data removed]"
     },
     "metadata": {
      "needs_background": "light"
     },
     "output_type": "display_data"
    }
   ],
   "source": [
    "plt.axis([0, 10, 0, 200])\n",
    "plt.scatter(x, y)\n",
    "test_line = [(find_b(x,y)*item + find_a(x,y)) for item in [0, 10]]\n",
    "plt.plot([0, 10], test_line)"
   ],
   "metadata": {
    "collapsed": false,
    "pycharm": {
     "name": "#%%\n"
    }
   }
  }
 ],
 "metadata": {
  "kernelspec": {
   "display_name": "Python 3",
   "language": "python",
   "name": "python3"
  },
  "language_info": {
   "codemirror_mode": {
    "name": "ipython",
    "version": 2
   },
   "file_extension": ".py",
   "mimetype": "text/x-python",
   "name": "python",
   "nbconvert_exporter": "python",
   "pygments_lexer": "ipython2",
   "version": "2.7.6"
  }
 },
 "nbformat": 4,
 "nbformat_minor": 0
}