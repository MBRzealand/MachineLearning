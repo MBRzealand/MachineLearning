{
 "cells": [
  {
   "cell_type": "markdown",
   "source": [
    "# Table of Contents\n",
    "[Assignment 1: Application program, declaration](#a1)<br>\n",
    "    [Assignment 1: Solution](#a1s)<br>\n",
    "[Assignment 2: Application program, loops](#a2)<br>\n",
    "    [Assignment 2: Solution](#a2s)<br>\n",
    "[Assignment 3: Application program, nested for loops](#a3)<br>\n",
    "    [Assignment 3: Solution](#a3s)<br>\n",
    "[Assignment 4: Application program, while-loops](#a4)<br>\n",
    "    [Assignment 4: Solution](#a4s)<br>\n",
    "[Assignment 5: Application program, if-else](#a5)<br>\n",
    "    [Assignment 5: Solution](#a5s)<br>\n",
    "[Assignment 6: Method maximum of two numbers](#a6)<br>\n",
    "    [Assignment 6: Solution](#a6s)<br>\n",
    "[Assignment 7: Application program 1-dim array (list) of numbers](#a7)<br>\n",
    "    [Assignment 7: Solution](#a7s)<br>\n",
    "[Assignment 8: Method maximum](#a8)<br>\n",
    "    [Assignment 8: Solution](#a8s)<br>\n",
    "[Assignment 9: Method minimum](#a9)<br>\n",
    "    [Assignment 9: Solution](#a9s)<br>\n",
    "[Assignment 10: Method Sum](#a10)<br>\n",
    "    [Assignment 10: Solution](#a10s)<br>\n",
    "[Assignment 11: Average](#a11)<br>\n",
    "    [Assignment 11: Solution](#a11s)<br>\n",
    "[Assignment X: The 5 highest numbers](#aX)<br>\n",
    "    [Assignment X: Solution](#aXs)<br>"
   ],
   "metadata": {
    "collapsed": false
   }
  },
  {
   "cell_type": "markdown",
   "source": [
    "## <u>Assignment 1: Application program, declaration</u> <a name=\"a1\"></a>\n",
    "Start Anaconda and launch Spyder.\n",
    "In Spyder type the following lines:\n",
    "```python\n",
    "int x = 1\n",
    "y = 3\n",
    "z = 5\n",
    "sum = x+y+z\n",
    "Print(sum)\n",
    "```\n",
    "Choose: Debug -> Debug\n",
    "\n",
    "Unfortunately there are errors.\n",
    "Notice the red spot (Code analysis: Invalid syntax). Correct the errors.\n",
    "Choose: Run or Click on the green triangle (extremely small)\n",
    "*Note: What did you learn ? Case sensitive. Type declaration\n",
    "Write it down.* <br>\n",
    "Now print out the result with a text by calling print:\n",
    "```python\n",
    "print(\"Sum is: \" + sum)\n",
    "print(\"Sum is: \" + str(sum) + \" DKK\")\n",
    "#Finally use the f-strings, a new feature in Python 3\n",
    "print(f\"Sum is: + {sum} + DKK\")\n",
    "```\n",
    "\n",
    "Highlight the four lines.\n",
    "Choose: Run -> Run cell <br>\n",
    "\n",
    "Unfortunately there are errors. Correct the errors.\n",
    "*Note: What did you learn? Type casting. Comments.\n",
    "Write it down.*\n",
    "*Note: One could also have use the format commands*"
   ],
   "metadata": {
    "collapsed": false
   }
  },
  {
   "cell_type": "markdown",
   "source": [
    "#### <u>Assignment 1: Solution</u> <a name=\"a1s\"></a>"
   ],
   "metadata": {
    "collapsed": false
   }
  },
  {
   "cell_type": "code",
   "execution_count": 1085,
   "outputs": [
    {
     "name": "stdout",
     "output_type": "stream",
     "text": [
      "9\n"
     ]
    }
   ],
   "source": [
    "x = 1\n",
    "y = 3\n",
    "z = 5\n",
    "\n",
    "sumOfNumbers = x+y+z\n",
    "\n",
    "print(sumOfNumbers)"
   ],
   "metadata": {
    "collapsed": false,
    "pycharm": {
     "name": "#%%\n"
    }
   }
  },
  {
   "cell_type": "code",
   "execution_count": 1086,
   "metadata": {
    "pycharm": {
     "name": "#%%\n"
    }
   },
   "outputs": [
    {
     "name": "stdout",
     "output_type": "stream",
     "text": [
      "Sum is: 9\n",
      "Sum is: 9 DKK\n",
      "Sum is: + 9 + DKK\n"
     ]
    }
   ],
   "source": [
    "print(\"Sum is: \" + str(sumOfNumbers))\n",
    "print(\"Sum is: \" + str(sumOfNumbers) + \" DKK\")\n",
    "#Finally use the f-strings, a new feature in Python 3\n",
    "print(f\"Sum is: + {sumOfNumbers} + DKK\")"
   ]
  },
  {
   "cell_type": "markdown",
   "source": [
    "#### <u>Assignment 2: Application program, loops</u> <a name=\"a2\"></a>\n",
    "For-loops in Python are actually for-each loops.\n",
    "Try to print out a list of squares:\n",
    "```python\n",
    "for i in range(1, 10):\n",
    "    print(i,i*i)\n",
    "    print()\n",
    "```\n",
    "Ups *Indentation error*. Correct and run again.\n",
    "Change the print sentence to:\n",
    "\n",
    "```python\n",
    "    print(i,i*i, end = \" \")\n",
    "```\n",
    "*Note: What did you learn? Indentation yes; no brackets.*"
   ],
   "metadata": {
    "collapsed": false
   }
  },
  {
   "cell_type": "markdown",
   "source": [
    "#### <u>Assignment 2: Solution</u> <a name=\"a2s\"></a>"
   ],
   "metadata": {
    "collapsed": false
   }
  },
  {
   "cell_type": "code",
   "execution_count": 1087,
   "metadata": {
    "pycharm": {
     "name": "#%%\n"
    }
   },
   "outputs": [
    {
     "name": "stdout",
     "output_type": "stream",
     "text": [
      "1 1 \n",
      "2 4 \n",
      "3 9 \n",
      "4 16 \n",
      "5 25 \n",
      "6 36 \n",
      "7 49 \n",
      "8 64 \n",
      "9 81 \n"
     ]
    }
   ],
   "source": [
    "for i in range(1, 10):\n",
    "    print(i,i*i, end = \" \")\n",
    "    print()"
   ]
  },
  {
   "cell_type": "markdown",
   "source": [
    "#### <u>Assignment 3: Application program, nested for loops</u> <a name=\"a3\"></a>\n",
    "The little table of the first 10 numbers looks like this\n",
    "<img src=\"https://i.imgur.com/wFiHYyU.png\"><br>\n",
    "\n",
    "Ring a bell from primary school!? Notice: 2x7 = 14!!\n",
    "Now you have to print out the numbers in little table using nested loops; i.e. a for-loop inside\n",
    "another for-loop. The formatting (a real table format) does not matter; it is the loops and content we\n",
    "focus on.\n",
    "\n",
    "*Tip: print(i*j, end = “ “)*"
   ],
   "metadata": {
    "collapsed": false
   }
  },
  {
   "cell_type": "markdown",
   "source": [
    "#### <u>Assignment 3: Solution</u> <a name=\"a3s\"></a>"
   ],
   "metadata": {
    "collapsed": false
   }
  },
  {
   "cell_type": "code",
   "execution_count": 1088,
   "metadata": {
    "pycharm": {
     "name": "#%%\n"
    }
   },
   "outputs": [
    {
     "name": "stdout",
     "output_type": "stream",
     "text": [
      "   1   2   3   4   5   6   7   8   9  10\n",
      "   2   4   6   8  10  12  14  16  18  20\n",
      "   3   6   9  12  15  18  21  24  27  30\n",
      "   4   8  12  16  20  24  28  32  36  40\n",
      "   5  10  15  20  25  30  35  40  45  50\n",
      "   6  12  18  24  30  36  42  48  54  60\n",
      "   7  14  21  28  35  42  49  56  63  70\n",
      "   8  16  24  32  40  48  56  64  72  80\n",
      "   9  18  27  36  45  54  63  72  81  90\n",
      "  10  20  30  40  50  60  70  80  90 100\n",
      "\n"
     ]
    }
   ],
   "source": [
    "table = \"\"\n",
    "for i in range(1,11):\n",
    "    for j in range(1,11):\n",
    "        table += '%4s' % str(i*j)\n",
    "\n",
    "    table += \"\\n\"\n",
    "\n",
    "print(table)"
   ]
  },
  {
   "cell_type": "markdown",
   "source": [
    "#### <u>Assignment 4: Application program, while-loops</u> <a name=\"a4\"></a>\n",
    "Try to print out a list of squares using a while-loop:\n",
    "```python\n",
    "i = 1\n",
    "while (i<=10):\n",
    "   ........\n",
    "```\n",
    "Write the rest of the code lines yourself.\n",
    "Debug and Run."
   ],
   "metadata": {
    "collapsed": false
   }
  },
  {
   "cell_type": "markdown",
   "source": [
    "#### <u>Assignment 4: Solution</u> <a name=\"a4s\"></a>"
   ],
   "metadata": {
    "collapsed": false
   }
  },
  {
   "cell_type": "code",
   "execution_count": 1089,
   "outputs": [
    {
     "name": "stdout",
     "output_type": "stream",
     "text": [
      "1\n",
      "4\n",
      "9\n",
      "16\n",
      "25\n",
      "36\n",
      "49\n",
      "64\n",
      "81\n",
      "100\n"
     ]
    }
   ],
   "source": [
    "i = 1\n",
    "while i<=10:\n",
    "    print(i**2)\n",
    "    i += 1"
   ],
   "metadata": {
    "collapsed": false,
    "pycharm": {
     "name": "#%%\n"
    }
   }
  },
  {
   "cell_type": "markdown",
   "source": [
    "#### <u>Assignment 5: Application program, if-else</u> <a name=\"a5\"></a>\n",
    "Try to print out the maximum of two numbers: x and y\n",
    "```python\n",
    "x = 7\n",
    "y = 23\n",
    "if (x > y):\n",
    "    print(\"x: \"+ str(x))\n",
    "else:\n",
    "    print(\"y: \"+ str(y))\n",
    "```\n",
    "Save and compile and run! No problems here, I hope!"
   ],
   "metadata": {
    "collapsed": false
   }
  },
  {
   "cell_type": "markdown",
   "source": [
    "#### <u>Assignment 5: Solution</u> <a name=\"a5s\"></a>"
   ],
   "metadata": {
    "collapsed": false
   }
  },
  {
   "cell_type": "code",
   "execution_count": 1090,
   "metadata": {
    "pycharm": {
     "name": "#%%\n"
    }
   },
   "outputs": [
    {
     "name": "stdout",
     "output_type": "stream",
     "text": [
      "y: 23\n"
     ]
    }
   ],
   "source": [
    "x = 7\n",
    "y = 23\n",
    "if (x > y):\n",
    "    print(\"x: \"+ str(x))\n",
    "else:\n",
    "    print(\"y: \"+ str(y))"
   ]
  },
  {
   "cell_type": "markdown",
   "source": [
    "#### <u>Assignment 6: Method maximum of two numbers</u> <a name=\"a6\"></a>\n",
    "Extend with a new method *findMax(x,y)*, which returns the maximum of the parameters\n",
    "```python\n",
    "def findMax(x,y):\n",
    "    if (x > y):\n",
    "  . . . . . .\n",
    "```\n",
    "Call the method and print out the maximum value.\n",
    "*Tip: Be inspired by assignment 5 but remember return !*\n",
    "\n",
    "***Now we will switch domain to list (array).***"
   ],
   "metadata": {
    "collapsed": false
   }
  },
  {
   "cell_type": "markdown",
   "source": [
    "#### <u> Assignment 6: Solution</u> <a name=\"a6s\"></a>"
   ],
   "metadata": {
    "collapsed": false
   }
  },
  {
   "cell_type": "code",
   "execution_count": 1091,
   "metadata": {
    "pycharm": {
     "name": "#%%\n"
    }
   },
   "outputs": [
    {
     "name": "stdout",
     "output_type": "stream",
     "text": [
      "10\n"
     ]
    }
   ],
   "source": [
    "def findMax(x,y):\n",
    "    if x > y:\n",
    "        return x\n",
    "    elif y > x:\n",
    "        return y\n",
    "    else:\n",
    "        return \"the numbers are the same so max is: \" + str(x)\n",
    "\n",
    "print(findMax(5,10))"
   ]
  },
  {
   "cell_type": "markdown",
   "source": [
    "#### <u> Assignment 7: Application program 1-dim array (list) of numbers</u> <a name=\"a7\"></a>\n",
    "Lists are actually the Python version of 1-dim arrays.\n",
    "Declare a list with the primes:\n",
    "```python\n",
    "data = [1,2,3,5,7,11,13,17,19,23]\n",
    "print(data)\n",
    "for item in data:\n",
    "    print(item, end = \" \")\n",
    "```\n",
    "Run as a cell. Explain the output.\n",
    "Add some more lines:\n",
    "```python\n",
    "print(data[3])\n",
    "data[0] = 17\n",
    "data.append(37)\n",
    "print(data)\n",
    "```\n",
    "Run. What do you expect to see?\n",
    "Add more lines:\n",
    "```python\n",
    "data.insert(4,99)\n",
    "print(data)\n",
    "```\n",
    "Run. What do you expect to see now?\n",
    "*What did you learn? Difference between append and insert*\n",
    "\n",
    "***Now we will switch domain to methods on lists.***"
   ],
   "metadata": {
    "collapsed": false
   }
  },
  {
   "cell_type": "markdown",
   "source": [
    "#### <u> Assignment 7: Solution</u> <a name=\"a7s\"></a>"
   ],
   "metadata": {
    "collapsed": false
   }
  },
  {
   "cell_type": "code",
   "execution_count": 1092,
   "metadata": {
    "pycharm": {
     "name": "#%%\n"
    }
   },
   "outputs": [
    {
     "name": "stdout",
     "output_type": "stream",
     "text": [
      "[1, 2, 3, 5, 7, 11, 13, 17, 19, 23]\n",
      "1 2 3 5 7 11 13 17 19 23 "
     ]
    }
   ],
   "source": [
    "data = [1,2,3,5,7,11,13,17,19,23]\n",
    "print(data)\n",
    "for item in data:\n",
    "    print(item, end = \" \")"
   ]
  },
  {
   "cell_type": "markdown",
   "metadata": {},
   "source": [
    "The code is a for each loop which prints every element of the data array"
   ]
  },
  {
   "cell_type": "code",
   "execution_count": 1093,
   "metadata": {
    "pycharm": {
     "name": "#%%\n"
    }
   },
   "outputs": [
    {
     "name": "stdout",
     "output_type": "stream",
     "text": [
      "5\n",
      "[17, 2, 3, 5, 7, 11, 13, 17, 19, 23, 37]\n"
     ]
    }
   ],
   "source": [
    "print(data[3])\n",
    "data[0] = 17\n",
    "data.append(37)\n",
    "print(data)"
   ]
  },
  {
   "cell_type": "markdown",
   "metadata": {},
   "source": [
    "I expect to see the 4th element of the data array in the first print statement<br>Then i expect the data array to be modified such that the first element \"1\" is changed to \"17\" <br>as well as 37 being appended to the end of the array <br>Lastly i expect the array to be printed"
   ]
  },
  {
   "cell_type": "code",
   "execution_count": 1094,
   "metadata": {
    "pycharm": {
     "name": "#%%\n"
    }
   },
   "outputs": [
    {
     "name": "stdout",
     "output_type": "stream",
     "text": [
      "[17, 2, 3, 5, 99, 7, 11, 13, 17, 19, 23, 37]\n"
     ]
    }
   ],
   "source": [
    "data.insert(4,99)\n",
    "print(data)"
   ]
  },
  {
   "cell_type": "markdown",
   "metadata": {},
   "source": [
    "I expected 99 to be inserted on the 5th array index"
   ]
  },
  {
   "cell_type": "markdown",
   "source": [
    "#### <u>Assignment 8: Method maximum</u> <a name=\"a8\"></a>\n",
    "Extend with a new method find_max(data), which returns the maximum of the numbers in the list\n",
    "*data*.\n",
    "```python\n",
    "def find_max(data):\n",
    "    my_max_ = max(data)\n",
    "    return my_max\n",
    "```\n",
    "Call *find_max* with data as parameter:\n",
    "```python\n",
    "max_num = find_max(data)\n",
    "```\n",
    "and print out the maximum number."
   ],
   "metadata": {
    "collapsed": false
   }
  },
  {
   "cell_type": "markdown",
   "source": [
    "#### <u> Assignment 8: Solution</u> <a name=\"a8s\"></a>"
   ],
   "metadata": {
    "collapsed": false
   }
  },
  {
   "cell_type": "code",
   "execution_count": 1095,
   "metadata": {
    "pycharm": {
     "name": "#%%\n"
    }
   },
   "outputs": [],
   "source": [
    "def find_max(data):\n",
    "    my_max = max(data)\n",
    "    return my_max"
   ]
  },
  {
   "cell_type": "code",
   "execution_count": 1096,
   "metadata": {
    "pycharm": {
     "name": "#%%\n"
    }
   },
   "outputs": [
    {
     "name": "stdout",
     "output_type": "stream",
     "text": [
      "99\n"
     ]
    }
   ],
   "source": [
    "max_num = find_max(data)\n",
    "print(max_num)"
   ]
  },
  {
   "cell_type": "markdown",
   "source": [
    "#### <u>Assignment 9: Method minimum</u> <a name=\"a9\"></a>\n",
    "Extend with a new method *find_min(data)*, which returns the minimum value of the numbers in the\n",
    "parameter *data*. Remember to introduce extra printing-sentences for this."
   ],
   "metadata": {
    "collapsed": false
   }
  },
  {
   "cell_type": "markdown",
   "source": [
    "#### <u> Assignment 9: Solution</u> <a name=\"a9s\"></a>"
   ],
   "metadata": {
    "collapsed": false
   }
  },
  {
   "cell_type": "code",
   "execution_count": 1097,
   "metadata": {
    "pycharm": {
     "name": "#%%\n"
    }
   },
   "outputs": [],
   "source": [
    "def find_min(data):\n",
    "    my_min = min(data)\n",
    "    return my_min"
   ]
  },
  {
   "cell_type": "code",
   "execution_count": 1098,
   "metadata": {
    "pycharm": {
     "name": "#%%\n"
    }
   },
   "outputs": [
    {
     "name": "stdout",
     "output_type": "stream",
     "text": [
      "2\n"
     ]
    }
   ],
   "source": [
    "min_num = find_min(data)\n",
    "print(min_num)"
   ]
  },
  {
   "cell_type": "markdown",
   "source": [
    "#### <u>Assignment 10: Method Sum</u> <a name=\"a10\"></a>\n",
    "Extend with a new method *find_sum(data)*, which returns the sum value of the numbers in the array\n",
    "parameter *data*. Remember to introduce extra printing-sentences for this.\n",
    "Follow the style from assignment 4."
   ],
   "metadata": {
    "collapsed": false
   }
  },
  {
   "cell_type": "markdown",
   "source": [
    "#### <u> Assignment 10: Solution</u> <a name=\"a10s\"></a>"
   ],
   "metadata": {
    "collapsed": false
   }
  },
  {
   "cell_type": "code",
   "execution_count": 1099,
   "metadata": {
    "pycharm": {
     "name": "#%%\n"
    }
   },
   "outputs": [],
   "source": [
    "def find_sum(data):\n",
    "    my_sum = sum(data)\n",
    "    return my_sum"
   ]
  },
  {
   "cell_type": "code",
   "execution_count": 1100,
   "metadata": {
    "pycharm": {
     "name": "#%%\n"
    }
   },
   "outputs": [
    {
     "name": "stdout",
     "output_type": "stream",
     "text": [
      "253\n"
     ]
    }
   ],
   "source": [
    "my_sum = find_sum(data)\n",
    "print(my_sum)"
   ]
  },
  {
   "cell_type": "markdown",
   "source": [
    "#### <u>Assignment 11: Average</u> <a name=\"a11\"></a>\n",
    "Extend with a new method *average(data)*, which returns the average of all numbers in the list.\n",
    "Utilize *find_sum* method from previous assignment."
   ],
   "metadata": {
    "collapsed": false
   }
  },
  {
   "cell_type": "markdown",
   "source": [
    "#### <u> Assignment 11: Solution</u> <a name=\"a11s\"></a>"
   ],
   "metadata": {
    "collapsed": false
   }
  },
  {
   "cell_type": "code",
   "execution_count": 1101,
   "metadata": {
    "pycharm": {
     "name": "#%%\n"
    }
   },
   "outputs": [],
   "source": [
    "def average(data):\n",
    "    my_average = find_sum(data)/len(data)\n",
    "    return my_average"
   ]
  },
  {
   "cell_type": "code",
   "execution_count": 1102,
   "metadata": {
    "pycharm": {
     "name": "#%%\n"
    }
   },
   "outputs": [
    {
     "name": "stdout",
     "output_type": "stream",
     "text": [
      "21.083333333333332\n"
     ]
    }
   ],
   "source": [
    "my_average = average(data)\n",
    "print(my_average)"
   ]
  },
  {
   "cell_type": "markdown",
   "source": [
    "#### <u>Assignment X: The 5 highest numbers</u> <a name=\"aX\"></a>\n",
    "How to find the 5 highest numbers in a list. How to return this from a method.\n",
    "Or maybe you can make it flexible so it can be any highest numbers like 6 or 11 etc."
   ],
   "metadata": {
    "collapsed": false
   }
  },
  {
   "cell_type": "markdown",
   "source": [
    "#### <u> Assignment X: Solution</u> <a name=\"aXs\"></a>"
   ],
   "metadata": {
    "collapsed": false
   }
  },
  {
   "cell_type": "code",
   "execution_count": 1103,
   "metadata": {
    "pycharm": {
     "name": "#%%\n"
    }
   },
   "outputs": [],
   "source": [
    "def find_highest_numbers(array, amount_of_numbers):\n",
    "    highest_numbers = []\n",
    "    for i in range(0,amount_of_numbers):\n",
    "        highest_number = find_max(array)\n",
    "        highest_numbers.append(highest_number)\n",
    "        array.remove(highest_number)\n",
    "    return highest_numbers"
   ]
  },
  {
   "cell_type": "code",
   "execution_count": 1104,
   "metadata": {
    "pycharm": {
     "name": "#%%\n"
    }
   },
   "outputs": [
    {
     "name": "stdout",
     "output_type": "stream",
     "text": [
      "[99, 37, 23]\n"
     ]
    }
   ],
   "source": [
    "print(find_highest_numbers(data,3))"
   ]
  }
 ],
 "metadata": {
  "kernelspec": {
   "display_name": "Python 3 (ipykernel)",
   "language": "python",
   "name": "python3"
  },
  "language_info": {
   "codemirror_mode": {
    "name": "ipython",
    "version": 3
   },
   "file_extension": ".py",
   "mimetype": "text/x-python",
   "name": "python",
   "nbconvert_exporter": "python",
   "pygments_lexer": "ipython3",
   "version": "3.9.7"
  }
 },
 "nbformat": 4,
 "nbformat_minor": 1
}