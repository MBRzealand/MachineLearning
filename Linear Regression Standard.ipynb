{
 "cells": [
  {
   "cell_type": "markdown",
   "metadata": {
    "collapsed": true,
    "pycharm": {
     "name": "#%% md\n"
    }
   },
   "source": [
    "# Table of Contents\n",
    "[Step 1: Establish a simple Dataframe](#a1)<br>\n",
    "    [Step 1: Solution](#a1s)<br>\n",
    "[Step 2: Establish features and labels](#a2)<br>\n",
    "    [Assignment 2: Solution](#a2s)<br>\n",
    "[Step 3: Perform linear regression](#a3)<br>\n",
    "    [Step 3: Solution](#a3s)<br>\n",
    "[Step 4: Get slope and intersection](#a4)<br>\n",
    "    [Step 4: Solution](#a4s)<br>\n",
    "[Step 5: Plot training set and regression line](#a5)<br>\n",
    "    [Step 5: Solution](#a5s)<br>"
   ]
  },
  {
   "cell_type": "markdown",
   "source": [
    "#### <u>Step 1: Establish a simple Dataframe</u> <a id=\"a1\"></a>\n",
    "Start Jupyter Notebook and make a new notebook: LinearRegStandard\n",
    "Import needed libraries:\n",
    "\n",
    "```python\n",
    "import numpy as np\n",
    "import pandas as pd\n",
    "import matplotlib.pyplot as plt\n",
    "from sklearn.linear_model import LinearRegression\n",
    "```\n",
    "\n",
    "Establish training set as a dataframe:\n",
    "\n",
    "```python\n",
    "clickData = {'CostPerClick': [2.3, 2.1, 2.5, 4.5, 5.9, 4.1, 8.9],\n",
    "    'TotalClicksPerDay': [89.0, 63.0, 71.0, 70.0, 80.0, 89.0, 150.0]}\n",
    "trainingSet = pd.DataFrame(clickData)\n",
    "trainingSet\n",
    "```\n",
    "\n",
    "Note datatype:\n",
    "\n",
    "```python\n",
    "type(trainingSet)\n",
    "```"
   ],
   "metadata": {
    "collapsed": false
   }
  },
  {
   "cell_type": "markdown",
   "source": [
    "#### <u>Step 1: Solution</u> <a id=\"a1s\"></a>"
   ],
   "metadata": {
    "collapsed": false,
    "pycharm": {
     "name": "#%% md\n"
    }
   }
  },
  {
   "cell_type": "code",
   "execution_count": 114,
   "outputs": [],
   "source": [
    "import numpy as np\n",
    "import pandas as pd\n",
    "import matplotlib.pyplot as plt\n",
    "from sklearn.linear_model import LinearRegression"
   ],
   "metadata": {
    "collapsed": false,
    "pycharm": {
     "name": "#%%\n"
    }
   }
  },
  {
   "cell_type": "code",
   "execution_count": 115,
   "outputs": [
    {
     "data": {
      "text/plain": "   CostPerClick  TotalClicksPerDay\n0           2.3               89.0\n1           2.1               63.0\n2           2.5               71.0\n3           4.5               70.0\n4           5.9               80.0\n5           4.1               89.0\n6           8.9              150.0",
      "text/html": "<div>\n<style scoped>\n    .dataframe tbody tr th:only-of-type {\n        vertical-align: middle;\n    }\n\n    .dataframe tbody tr th {\n        vertical-align: top;\n    }\n\n    .dataframe thead th {\n        text-align: right;\n    }\n</style>\n<table border=\"1\" class=\"dataframe\">\n  <thead>\n    <tr style=\"text-align: right;\">\n      <th></th>\n      <th>CostPerClick</th>\n      <th>TotalClicksPerDay</th>\n    </tr>\n  </thead>\n  <tbody>\n    <tr>\n      <th>0</th>\n      <td>2.3</td>\n      <td>89.0</td>\n    </tr>\n    <tr>\n      <th>1</th>\n      <td>2.1</td>\n      <td>63.0</td>\n    </tr>\n    <tr>\n      <th>2</th>\n      <td>2.5</td>\n      <td>71.0</td>\n    </tr>\n    <tr>\n      <th>3</th>\n      <td>4.5</td>\n      <td>70.0</td>\n    </tr>\n    <tr>\n      <th>4</th>\n      <td>5.9</td>\n      <td>80.0</td>\n    </tr>\n    <tr>\n      <th>5</th>\n      <td>4.1</td>\n      <td>89.0</td>\n    </tr>\n    <tr>\n      <th>6</th>\n      <td>8.9</td>\n      <td>150.0</td>\n    </tr>\n  </tbody>\n</table>\n</div>"
     },
     "execution_count": 115,
     "metadata": {},
     "output_type": "execute_result"
    }
   ],
   "source": [
    "clickData = {'CostPerClick': [2.3, 2.1, 2.5, 4.5, 5.9, 4.1, 8.9],\n",
    "             'TotalClicksPerDay': [89.0, 63.0, 71.0, 70.0, 80.0, 89.0, 150.0]}\n",
    "trainingSet = pd.DataFrame(clickData)\n",
    "trainingSet"
   ],
   "metadata": {
    "collapsed": false,
    "pycharm": {
     "name": "#%%\n"
    }
   }
  },
  {
   "cell_type": "code",
   "execution_count": 116,
   "outputs": [
    {
     "data": {
      "text/plain": "pandas.core.frame.DataFrame"
     },
     "execution_count": 116,
     "metadata": {},
     "output_type": "execute_result"
    }
   ],
   "source": [
    "type(trainingSet)"
   ],
   "metadata": {
    "collapsed": false,
    "pycharm": {
     "name": "#%%\n"
    }
   }
  },
  {
   "cell_type": "markdown",
   "source": [
    "#### <u>Step 2: Establish features and labels</u> <a id=\"a2\"></a>\n",
    "Extract labels:\n",
    "```python\n",
    "clickLabels = np.c_[trainingSet[\"TotalClicksPerDay\"]]\n",
    "clickLabels\n",
    "```\n",
    "\n",
    "Note datatype:\n",
    "```python\n",
    "type(clickLabels)\n",
    "```\n",
    "\n",
    "Extract feature:\n",
    "```python\n",
    "clickFeatures = np.c_[trainingSet[\"CostPerClick\"]]\n",
    "clickFeatures\n",
    "```\n",
    "\n",
    "Note datatype:\n",
    "```python\n",
    "type(clickFeatures)\n",
    "```"
   ],
   "metadata": {
    "collapsed": false
   }
  },
  {
   "cell_type": "markdown",
   "source": [
    "#### <u>Step 2: Solution</u> <a id=\"a2s\"></a>"
   ],
   "metadata": {
    "collapsed": false
   }
  },
  {
   "cell_type": "code",
   "execution_count": 117,
   "outputs": [
    {
     "data": {
      "text/plain": "array([[ 89.],\n       [ 63.],\n       [ 71.],\n       [ 70.],\n       [ 80.],\n       [ 89.],\n       [150.]])"
     },
     "execution_count": 117,
     "metadata": {},
     "output_type": "execute_result"
    }
   ],
   "source": [
    "clickLabels = np.c_[trainingSet[\"TotalClicksPerDay\"]]\n",
    "clickLabels"
   ],
   "metadata": {
    "collapsed": false,
    "pycharm": {
     "name": "#%%\n"
    }
   }
  },
  {
   "cell_type": "code",
   "execution_count": 118,
   "outputs": [
    {
     "data": {
      "text/plain": "numpy.ndarray"
     },
     "execution_count": 118,
     "metadata": {},
     "output_type": "execute_result"
    }
   ],
   "source": [
    "type(clickLabels)"
   ],
   "metadata": {
    "collapsed": false,
    "pycharm": {
     "name": "#%%\n"
    }
   }
  },
  {
   "cell_type": "code",
   "execution_count": 119,
   "outputs": [
    {
     "data": {
      "text/plain": "array([[2.3],\n       [2.1],\n       [2.5],\n       [4.5],\n       [5.9],\n       [4.1],\n       [8.9]])"
     },
     "execution_count": 119,
     "metadata": {},
     "output_type": "execute_result"
    }
   ],
   "source": [
    "clickFeatures = np.c_[trainingSet[\"CostPerClick\"]]\n",
    "clickFeatures"
   ],
   "metadata": {
    "collapsed": false,
    "pycharm": {
     "name": "#%%\n"
    }
   }
  },
  {
   "cell_type": "code",
   "execution_count": 120,
   "outputs": [
    {
     "data": {
      "text/plain": "numpy.ndarray"
     },
     "execution_count": 120,
     "metadata": {},
     "output_type": "execute_result"
    }
   ],
   "source": [
    "type(clickFeatures)"
   ],
   "metadata": {
    "collapsed": false,
    "pycharm": {
     "name": "#%%\n"
    }
   }
  },
  {
   "cell_type": "markdown",
   "source": [
    "#### <u>Step 3: Perform linear regression</u> <a id=\"a3\"></a>\n",
    "Create linear regression model and fit it:\n",
    "\n",
    "```python\n",
    "lin_reg = LinearRegression()\n",
    "lin_reg.fit(clickFeatures, clickLabels)\n",
    "```"
   ],
   "metadata": {
    "collapsed": false,
    "pycharm": {
     "name": "#%% md\n"
    }
   }
  },
  {
   "cell_type": "markdown",
   "source": [
    "#### <u>Step 3: Solution</u> <a id=\"a3s\"></a>"
   ],
   "metadata": {
    "collapsed": false
   }
  },
  {
   "cell_type": "code",
   "execution_count": 121,
   "outputs": [
    {
     "data": {
      "text/plain": "LinearRegression()"
     },
     "execution_count": 121,
     "metadata": {},
     "output_type": "execute_result"
    }
   ],
   "source": [
    "lin_reg = LinearRegression()\n",
    "lin_reg.fit(clickFeatures, clickLabels)"
   ],
   "metadata": {
    "collapsed": false,
    "pycharm": {
     "name": "#%%\n"
    }
   }
  },
  {
   "cell_type": "markdown",
   "source": [
    "#### <u>Step 4: Get slope and intersection</u> <a id=\"a3\"></a>\n",
    "Get intersection:\n",
    "```python\n",
    "intersection=lin_reg.intercept_[0]\n",
    "intersection\n",
    "```\n",
    "\n",
    "Get slope:\n",
    "```python\n",
    "slope=lin_reg.coef_[0][0]\n",
    "slope\n",
    "```"
   ],
   "metadata": {
    "collapsed": false
   }
  },
  {
   "cell_type": "markdown",
   "source": [
    "#### <u>Step 4: Solution</u> <a id=\"a4s\"></a>"
   ],
   "metadata": {
    "collapsed": false,
    "pycharm": {
     "name": "#%% md\n"
    }
   }
  },
  {
   "cell_type": "code",
   "execution_count": 122,
   "outputs": [
    {
     "data": {
      "text/plain": "44.91852500796434"
     },
     "execution_count": 122,
     "metadata": {},
     "output_type": "execute_result"
    }
   ],
   "source": [
    "intersection=lin_reg.intercept_[0]\n",
    "intersection"
   ],
   "metadata": {
    "collapsed": false,
    "pycharm": {
     "name": "#%%\n"
    }
   }
  },
  {
   "cell_type": "code",
   "execution_count": 123,
   "outputs": [
    {
     "data": {
      "text/plain": "9.820802803440582"
     },
     "execution_count": 123,
     "metadata": {},
     "output_type": "execute_result"
    }
   ],
   "source": [
    "slope=lin_reg.coef_[0][0]\n",
    "slope"
   ],
   "metadata": {
    "collapsed": false,
    "pycharm": {
     "name": "#%%\n"
    }
   }
  },
  {
   "cell_type": "markdown",
   "source": [
    "#### <u>Step 5: Plot training set and regression line</u> <a id=\"a3\"></a>\n",
    "Perform plotting:\n",
    "```python\n",
    "plt.axis([0, 10, 0, 200])\n",
    "plt.scatter(clickFeatures, clickLabels)\n",
    "intersection=lin_reg.intercept_[0]\n",
    "slope=lin_reg.coef_[0]\n",
    "test_line = [(slope*item + intersection) for item in [0, 10]]\n",
    "plt.plot([0, 10], test_line)\n",
    "```\n",
    "\n",
    "***Congratulations.***"
   ],
   "metadata": {
    "collapsed": false
   }
  },
  {
   "cell_type": "markdown",
   "source": [
    "#### <u>Step 5: Solution</u> <a id=\"a5s\"></a>"
   ],
   "metadata": {
    "collapsed": false
   }
  },
  {
   "cell_type": "code",
   "execution_count": 124,
   "outputs": [
    {
     "data": {
      "text/plain": "[<matplotlib.lines.Line2D at 0x22fa68cd370>]"
     },
     "execution_count": 124,
     "metadata": {},
     "output_type": "execute_result"
    },
    {
     "data": {
      "text/plain": "<Figure size 432x288 with 1 Axes>",
      "image/png": "[encoded data removed]"
     },
     "metadata": {
      "needs_background": "light"
     },
     "output_type": "display_data"
    }
   ],
   "source": [
    "plt.axis([0, 10, 0, 200])\n",
    "plt.scatter(clickFeatures, clickLabels)\n",
    "intersection=lin_reg.intercept_[0]\n",
    "slope=lin_reg.coef_[0]\n",
    "test_line = [(slope*item + intersection) for item in [0, 10]]\n",
    "plt.plot([0, 10], test_line)"
   ],
   "metadata": {
    "collapsed": false,
    "pycharm": {
     "name": "#%%\n"
    }
   }
  }
 ],
 "metadata": {
  "kernelspec": {
   "display_name": "Python 3",
   "language": "python",
   "name": "python3"
  },
  "language_info": {
   "codemirror_mode": {
    "name": "ipython",
    "version": 2
   },
   "file_extension": ".py",
   "mimetype": "text/x-python",
   "name": "python",
   "nbconvert_exporter": "python",
   "pygments_lexer": "ipython2",
   "version": "2.7.6"
  }
 },
 "nbformat": 4,
 "nbformat_minor": 0
}