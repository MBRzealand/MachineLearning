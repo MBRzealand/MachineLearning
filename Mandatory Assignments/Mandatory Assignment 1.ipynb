{
 "cells": [
  {
   "cell_type": "markdown",
   "metadata": {
    "collapsed": true,
    "pycharm": {
     "name": "#%% md\n"
    }
   },
   "source": [
    "# Table of Contents\n",
    "[<b>Step 1: Look at the big picture and frame the problem</b>](#a1)<br>\n",
    "&nbsp;&nbsp;&nbsp;&nbsp;&nbsp;&nbsp;    [Step 1.1: Solution](#a1.1s)<br>\n",
    "&nbsp;&nbsp;&nbsp;&nbsp;&nbsp;&nbsp;    [Step 1.2: Solution](#a1.2s)<br>\n",
    "&nbsp;&nbsp;&nbsp;&nbsp;&nbsp;&nbsp;    [Step 1.3: Solution](#a1.3s)<br>\n",
    "&nbsp;&nbsp;&nbsp;&nbsp;&nbsp;&nbsp;    [Step 1.4: Solution](#a1.4s)<br>\n",
    "&nbsp;&nbsp;&nbsp;&nbsp;&nbsp;&nbsp;    [Step 1.5: Solution](#a1.5s)<br>\n",
    "&nbsp;&nbsp;&nbsp;&nbsp;&nbsp;&nbsp;    [Step 1.6: Solution](#a1.6s)<br>\n",
    "&nbsp;&nbsp;&nbsp;&nbsp;&nbsp;&nbsp;    [Step 1.7: Solution](#a1.7s)<br>\n",
    "&nbsp;&nbsp;&nbsp;&nbsp;&nbsp;&nbsp;    [Step 1.8: Solution](#a1.8s)<br>\n",
    "&nbsp;&nbsp;&nbsp;&nbsp;&nbsp;&nbsp;    [Step 1.9: Solution](#a1.9s)<br>\n",
    "&nbsp;&nbsp;&nbsp;&nbsp;&nbsp;&nbsp;    [Step 1.10: Solution](#a1.10s)<br>\n",
    "&nbsp;&nbsp;&nbsp;&nbsp;&nbsp;&nbsp;    [Step 1.11: Solution](#a1.11s)<br>\n",
    "[<b>Step 2: Get the data</b>](#a2)<br>\n",
    "&nbsp;&nbsp;&nbsp;&nbsp;&nbsp;&nbsp;    [Step 2.1: Solution](#a2.1s)<br>\n",
    "&nbsp;&nbsp;&nbsp;&nbsp;&nbsp;&nbsp;    [Step 2.2: Solution](#a2.2s)<br>\n",
    "&nbsp;&nbsp;&nbsp;&nbsp;&nbsp;&nbsp;    [Step 2.3: Solution](#a2.3s)<br>\n",
    "&nbsp;&nbsp;&nbsp;&nbsp;&nbsp;&nbsp;    [Step 2.4: Solution](#a2.4s)<br>\n",
    "&nbsp;&nbsp;&nbsp;&nbsp;&nbsp;&nbsp;    [Step 2.5: Solution](#a2.5s)<br>\n",
    "&nbsp;&nbsp;&nbsp;&nbsp;&nbsp;&nbsp;    [Step 2.6: Solution](#a2.6s)<br>\n",
    "&nbsp;&nbsp;&nbsp;&nbsp;&nbsp;&nbsp;    [Step 2.7: Solution](#a2.7s)<br>\n",
    "&nbsp;&nbsp;&nbsp;&nbsp;&nbsp;&nbsp;    [Step 2.8: Solution](#a2.8s)<br>\n",
    "&nbsp;&nbsp;&nbsp;&nbsp;&nbsp;&nbsp;    [Step 2.9: Solution](#a2.9s)<br>\n",
    "&nbsp;&nbsp;&nbsp;&nbsp;&nbsp;&nbsp;    [Step 2.10: Solution](#a2.10s)<br>\n",
    "&nbsp;&nbsp;&nbsp;&nbsp;&nbsp;&nbsp;    [Step 2.11: Solution](#a2.11s)<br>\n",
    "[<b>Step 3: Explore the data</b>](#a2)<br>\n",
    "&nbsp;&nbsp;&nbsp;&nbsp;&nbsp;&nbsp;    [Step 3.1: Solution](#a3.1s)<br>\n",
    "&nbsp;&nbsp;&nbsp;&nbsp;&nbsp;&nbsp;    [Step 3.2: Solution](#a3.2s)<br>\n",
    "&nbsp;&nbsp;&nbsp;&nbsp;&nbsp;&nbsp;    [Step 3.3: Solution](#a3.3s)<br>\n",
    "&nbsp;&nbsp;&nbsp;&nbsp;&nbsp;&nbsp;    [Step 3.4: Solution](#a3.4s)<br>\n",
    "&nbsp;&nbsp;&nbsp;&nbsp;&nbsp;&nbsp;    [Step 3.5: Solution](#a3.5s)<br>\n",
    "&nbsp;&nbsp;&nbsp;&nbsp;&nbsp;&nbsp;    [Step 3.6: Solution](#a3.6s)<br>\n",
    "&nbsp;&nbsp;&nbsp;&nbsp;&nbsp;&nbsp;    [Step 3.7: Solution](#a3.7s)<br>\n",
    "&nbsp;&nbsp;&nbsp;&nbsp;&nbsp;&nbsp;    [Step 3.8: Solution](#a3.8s)<br>\n",
    "&nbsp;&nbsp;&nbsp;&nbsp;&nbsp;&nbsp;    [Step 3.9: Solution](#a3.9s)<br>\n",
    "&nbsp;&nbsp;&nbsp;&nbsp;&nbsp;&nbsp;    [Step 3.10: Solution](#a3.10s)<br>\n",
    "&nbsp;&nbsp;&nbsp;&nbsp;&nbsp;&nbsp;    [Step 3.11: Solution](#a3.11s)<br>"
   ]
  },
  {
   "cell_type": "markdown",
   "source": [
    "#### <u>Step 1: Look at the big picture and frame the problem</u> <a id=\"a1\"></a>\n",
    "<ol>\n",
    "<li>Define the objective in business terms.</li>\n",
    "<li>How shall your solution be used?</li>\n",
    "<li>N/A. What are the current solutions/workarounds (if any)?</li>\n",
    "<li>How should you frame this problem (supervised/unsupervised, online/offline, etc.)?</li>\n",
    "<li>How should performance be measured?</li>\n",
    "<li>Is the performance measure aligned with the business objective?</li>\n",
    "<li>N/A. What would be the minimum performance needed to reach the business objective?</li>\n",
    "<li>What are comparable problems? Can you reuse experience (of course YES) or tools?</li>\n",
    "<li>N/A. Is human expertise available?</li>\n",
    "<li>N/A. How would you solve the problem manually?</li>\n",
    "<li>List the assumptions you (or others) have made so far</li>\n",
    "</ol>"
   ],
   "metadata": {
    "collapsed": false
   }
  },
  {
   "cell_type": "markdown",
   "source": [
    "#### <u>Step 1.1: Solution</u> <a id=\"a1.1s\"></a>\n"
   ],
   "metadata": {
    "collapsed": false
   }
  },
  {
   "cell_type": "markdown",
   "source": [
    "#### <u>Step 2: Get the data</u> <a id=\"a2\"></a>\n",
    "The data is the 50_Startups.csv file at the teachers home page.\n",
    "<ol>\n",
    "<li>N/A. List the data you need and how much you need.</li>\n",
    "<li>N/A. Find and document where you can get that data.</li>\n",
    "<li>Check out how much space it requires. (Well its super small )</li>\n",
    "<li>N/A. Check legal obligations, and get authorization if necessary.</li>\n",
    "<li>N/A. Get access authorizations.</li>\n",
    "<li>Create a workspace (with enough storage space) at your PC for the program and data set,</li>\n",
    "<li>Get the data.</li>\n",
    "<li>N/A. Convert the data to a format you can easily manipulate (without changing the data itself). It’s already good, already.</li>\n",
    "<li>N/A. Ensure sensitive information is deleted or protected (e.g., anonymized).\n",
    "Mandatory project: ML Startsups 4th Semester- Autumn 2021\n",
    "Side 4 af 8</li>\n",
    "<li>Check the size and type of data (time series, sample, geographical, etc.).\n",
    "Just use “Notepad”.</li>\n",
    "<li><i>Document what you have learned.</i></li>\n",
    "</ol>"
   ],
   "metadata": {
    "collapsed": false,
    "pycharm": {
     "name": "#%% md\n"
    }
   }
  },
  {
   "cell_type": "markdown",
   "source": [
    "#### <u>Step 2.1: Solution</u> <a id=\"a2.1s\"></a>\n",
    "<h1>N/A.</h1>"
   ],
   "metadata": {
    "collapsed": false
   }
  },
  {
   "cell_type": "markdown",
   "source": [
    "#### <u>Step 2.2: Solution</u> <a id=\"a2.2s\"></a>\n",
    "<h1>N/A.</h1>"
   ],
   "metadata": {
    "collapsed": false
   }
  },
  {
   "cell_type": "markdown",
   "source": [
    "#### <u>Step 2.3: Solution</u> <a id=\"a2.3s\"></a>\n",
    "<img src=\"https://i.imgur.com/8rWyt9D.png\"><br/>\n",
    "as we can see in this image file, the data file itself is 3KB\n",
    "and the small python import script is 1KB"
   ],
   "metadata": {
    "collapsed": false
   }
  },
  {
   "cell_type": "markdown",
   "source": [
    "#### <u>Step 2.4: Solution</u> <a id=\"a2.4s\"></a>\n",
    "<h1>N/A.</h1>"
   ],
   "metadata": {
    "collapsed": false
   }
  },
  {
   "cell_type": "markdown",
   "source": [
    "#### <u>Step 2.5: Solution</u> <a id=\"a2.5s\"></a>\n",
    "<h1>N/A.</h1>"
   ],
   "metadata": {
    "collapsed": false
   }
  },
  {
   "cell_type": "markdown",
   "source": [
    "#### <u>Step 2.6: Solution</u> <a id=\"a2.6s\"></a>\n",
    "We have set up a workspace containing our jupyter worksheet as well as the 2 files included in the assignment\n",
    "the 2 files are located in the Data folder. Our workspace structure can be seen in the picture below: <br/>\n",
    "<img src=\"https://i.imgur.com/PAVXiLZ.png\">"
   ],
   "metadata": {
    "collapsed": false
   }
  },
  {
   "cell_type": "markdown",
   "source": [
    "#### <u>Step 2.7: Solution</u> <a id=\"a2.7s\"></a>\n",
    "to import the dataset we simply run the script included with the data file after specifying our data directory:"
   ],
   "metadata": {
    "collapsed": false
   }
  },
  {
   "cell_type": "code",
   "execution_count": 831,
   "outputs": [],
   "source": [
    "import pandas as pd\n",
    "\n",
    "#Importing the dataset\n",
    "dataset = pd.read_csv('./Data/50_Startups.csv')\n",
    "X = dataset.iloc[:, :-1].values\n",
    "y = dataset.iloc[:, 4].values"
   ],
   "metadata": {
    "collapsed": false,
    "pycharm": {
     "name": "#%%\n"
    }
   }
  },
  {
   "cell_type": "markdown",
   "source": [
    "#### <u>Step 2.8: Solution</u> <a id=\"a2.8s\"></a>\n",
    "<h1>N/A.</h1>"
   ],
   "metadata": {
    "collapsed": false
   }
  },
  {
   "cell_type": "markdown",
   "source": [
    "#### <u>Step 2.9: Solution</u> <a id=\"a2.9s\"></a>\n",
    "<h1>N/A.</h1>"
   ],
   "metadata": {
    "collapsed": false
   }
  },
  {
   "cell_type": "markdown",
   "source": [
    "#### <u>Step 2.10: Solution</u> <a id=\"a2.10s\"></a>\n",
    "to check the size of the dataset we can simply do:"
   ],
   "metadata": {
    "collapsed": false
   }
  },
  {
   "cell_type": "code",
   "execution_count": 832,
   "outputs": [
    {
     "data": {
      "text/plain": "50"
     },
     "execution_count": 832,
     "metadata": {},
     "output_type": "execute_result"
    }
   ],
   "source": [
    "len(dataset.index)"
   ],
   "metadata": {
    "collapsed": false,
    "pycharm": {
     "name": "#%%\n"
    }
   }
  },
  {
   "cell_type": "markdown",
   "source": [
    "as we can see the \"size\" or the \"number of observations\" in our dataset is 50 observations\n",
    "\n",
    "(this could also be done in notepad by seeing the 51 lines of text, minus the one line for the header.)"
   ],
   "metadata": {
    "collapsed": false
   }
  },
  {
   "cell_type": "markdown",
   "source": [
    "and if we check the datatypes: (time series, sample, geographical, etc.)."
   ],
   "metadata": {
    "collapsed": false,
    "pycharm": {
     "name": "#%% md\n"
    }
   }
  },
  {
   "cell_type": "code",
   "execution_count": 833,
   "outputs": [
    {
     "name": "stdout",
     "output_type": "stream",
     "text": [
      "   R&D Spend  Administration  Marketing Spend       State     Profit\n",
      "0  165349.20       136897.80        471784.10    New York  192261.83\n",
      "1  162597.70       151377.59        443898.53  California  191792.06\n",
      "2  153441.51       101145.55        407934.54     Florida  191050.39\n",
      "3  144372.41       118671.85        383199.62    New York  182901.99\n",
      "4  142107.34        91391.77        366168.42     Florida  166187.94\n",
      "\n",
      "           R&D Spend  Administration  Marketing Spend         Profit\n",
      "count      50.000000       50.000000        50.000000      50.000000\n",
      "mean    73721.615600   121344.639600    211025.097800  112012.639200\n",
      "std     45902.256482    28017.802755    122290.310726   40306.180338\n",
      "min         0.000000    51283.140000         0.000000   14681.400000\n",
      "25%     39936.370000   103730.875000    129300.132500   90138.902500\n",
      "50%     73051.080000   122699.795000    212716.240000  107978.190000\n",
      "75%    101602.800000   144842.180000    299469.085000  139765.977500\n",
      "max    165349.200000   182645.560000    471784.100000  192261.830000\n"
     ]
    }
   ],
   "source": [
    "print(dataset.head())\n",
    "print(\"\")\n",
    "print(dataset.describe())"
   ],
   "metadata": {
    "collapsed": false,
    "pycharm": {
     "name": "#%%\n"
    }
   }
  },
  {
   "cell_type": "markdown",
   "source": [
    "#### <u>Step 2.11: Solution</u> <a id=\"a2.11s\"></a>\n",
    "We have learned that:\n",
    "\n",
    "the dataset contains the following features:\n",
    "    - R&D Spend\n",
    "    - Administration\n",
    "    - Marketing Spend\n",
    "    - State\n",
    "\n",
    "The dataset contains the following labels:\n",
    "    - Profit\n",
    "\n",
    "The dataset has 50 observations of 5 variables\n"
   ],
   "metadata": {
    "collapsed": false,
    "pycharm": {
     "name": "#%% md\n"
    }
   }
  },
  {
   "cell_type": "markdown",
   "source": [
    "#### <u>Step 3: Explore the data</u> <a id=\"a3\"></a><ol>\n",
    "You are now ready to make a Jupyter program for exploring the data.\n",
    "Remember your experience from the investigation of “Housing” in Chapter 2..\n",
    "<br>\n",
    "<ol>\n",
    "    <li>Create a copy of the data for exploration (N/A. sampling it down to a manageable size if\n",
    "    necessary).</li>\n",
    "    <li>Create a Jupyter notebook to keep a record of your data exploration.\n",
    "    A copy and paste and changes of the Housing is not illegal </li>\n",
    "    <li>Study each attribute and its characteristics:</li>\n",
    "        <ul>\n",
    "            <li>Name</li>\n",
    "            <li>Type (categorical, int/float, bounded/unbounded, text, structured, etc.)</li>\n",
    "            <li>% of missing values</li>\n",
    "            <li>N/A. Noisiness and type of noise (stochastic, outliers, rounding errors, etc.)</li>\n",
    "            <li>Usefulness for the task</li>\n",
    "            <li>Type of distribution (Gaussian, uniform, logarithmic, etc.)</li>\n",
    "            <li>Do a histogram for each attribute.</li>\n",
    "        </ul>\n",
    "    <li>For supervised learning tasks, identify the target attribute(s); i.e. the label(s).</li>\n",
    "    <li>Discover and visualize the data by scatter plots for each numerical attribute.</li>\n",
    "    <li>Study the correlations between attributes. <br>Make also a scatter matrix plot</li>\n",
    "    <li>N/A. Study how you would solve the problem manually.</li>\n",
    "    <li>Experiment with attribute combinations.</li>\n",
    "    <li>Identify a new promising attribute you may want to apply, if any.</li>\n",
    "    <li>N/A. Identify extra data that would be useful (go back to “Get the Data”).</li>\n",
    "    <li> Create a test set, put it aside, and never look at it (no data snooping!).\n",
    "    A problem here is that the data set is small. How much do you want in the test set…\n",
    "    <br>\n",
    "    <i>Remember stratified….</i>\n",
    "    <br>\n",
    "    <b>Note.</b> This would normally be done earlier, but the data size is so small.</li>\n",
    "    <li><i>Document your work.</i></li>\n",
    "</ol>"
   ],
   "metadata": {
    "collapsed": false
   }
  },
  {
   "cell_type": "markdown",
   "source": [
    "#### <u>Step 3.1: Solution</u> <a id=\"a3.1s\"></a>"
   ],
   "metadata": {
    "collapsed": false
   }
  },
  {
   "cell_type": "code",
   "execution_count": 834,
   "outputs": [
    {
     "data": {
      "text/plain": "   R&D Spend  Administration  Marketing Spend       State     Profit\n0  165349.20       136897.80        471784.10    New York  192261.83\n1  162597.70       151377.59        443898.53  California  191792.06\n2  153441.51       101145.55        407934.54     Florida  191050.39\n3  144372.41       118671.85        383199.62    New York  182901.99\n4  142107.34        91391.77        366168.42     Florida  166187.94",
      "text/html": "<div>\n<style scoped>\n    .dataframe tbody tr th:only-of-type {\n        vertical-align: middle;\n    }\n\n    .dataframe tbody tr th {\n        vertical-align: top;\n    }\n\n    .dataframe thead th {\n        text-align: right;\n    }\n</style>\n<table border=\"1\" class=\"dataframe\">\n  <thead>\n    <tr style=\"text-align: right;\">\n      <th></th>\n      <th>R&amp;D Spend</th>\n      <th>Administration</th>\n      <th>Marketing Spend</th>\n      <th>State</th>\n      <th>Profit</th>\n    </tr>\n  </thead>\n  <tbody>\n    <tr>\n      <th>0</th>\n      <td>165349.20</td>\n      <td>136897.80</td>\n      <td>471784.10</td>\n      <td>New York</td>\n      <td>192261.83</td>\n    </tr>\n    <tr>\n      <th>1</th>\n      <td>162597.70</td>\n      <td>151377.59</td>\n      <td>443898.53</td>\n      <td>California</td>\n      <td>191792.06</td>\n    </tr>\n    <tr>\n      <th>2</th>\n      <td>153441.51</td>\n      <td>101145.55</td>\n      <td>407934.54</td>\n      <td>Florida</td>\n      <td>191050.39</td>\n    </tr>\n    <tr>\n      <th>3</th>\n      <td>144372.41</td>\n      <td>118671.85</td>\n      <td>383199.62</td>\n      <td>New York</td>\n      <td>182901.99</td>\n    </tr>\n    <tr>\n      <th>4</th>\n      <td>142107.34</td>\n      <td>91391.77</td>\n      <td>366168.42</td>\n      <td>Florida</td>\n      <td>166187.94</td>\n    </tr>\n  </tbody>\n</table>\n</div>"
     },
     "execution_count": 834,
     "metadata": {},
     "output_type": "execute_result"
    }
   ],
   "source": [
    "datacopy = dataset.copy()\n",
    "datacopy.head()"
   ],
   "metadata": {
    "collapsed": false,
    "pycharm": {
     "name": "#%%\n"
    }
   }
  },
  {
   "cell_type": "markdown",
   "source": [
    "#### <u>Step 3.2: Solution</u> <a id=\"a3.2s\"></a>\n",
    "we are already working inside of a jupyter notebook, hence there is no need to make a new one"
   ],
   "metadata": {
    "collapsed": false
   }
  },
  {
   "cell_type": "markdown",
   "source": [
    "#### <u>Step 3.3: Solution</u> <a id=\"a3.3s\"></a>\n",
    "\n",
    "<b>the dataset has the following attributes:</b>\n",
    "<ul>\n",
    "<li>R&D Spend</li>\n",
    "<li>Administration</li>\n",
    "<li>Marketing Spend</li>\n",
    "<li>State</li>\n",
    "<li>Profit</li>\n",
    "</ul>\n",
    "\n",
    "<b>We will now set up a table for the types of each attribute to make it more manageable</b>\n",
    "\n",
    "<table>\n",
    "    <tr>\n",
    "        <th>attribute</th>\n",
    "        <th>categorical</th>\n",
    "        <th>int/float</th>\n",
    "        <th>bounded/unbounded</th>\n",
    "        <th>text</th>\n",
    "        <th>structured</th>\n",
    "    </tr>\n",
    "    <tr>\n",
    "        <td>R&D Spend</td>\n",
    "        <td>costs</td>\n",
    "        <td>float</td>\n",
    "        <td>unbounded</td>\n",
    "        <td>&nbsp;&nbsp;✗</td>\n",
    "        <td>&nbsp;&nbsp;&nbsp;&nbsp;&nbsp;&nbsp;&nbsp;&nbsp;✓</td>\n",
    "    </tr>\n",
    "    <tr>\n",
    "        <td>Administration</td>\n",
    "        <td>costs</td>\n",
    "        <td>float</td>\n",
    "        <td>unbounded</td>\n",
    "        <td>&nbsp;&nbsp;✗</td>\n",
    "        <td>&nbsp;&nbsp;&nbsp;&nbsp;&nbsp;&nbsp;&nbsp;&nbsp;✓</td>\n",
    "  </tr>\n",
    "      <tr>\n",
    "        <td>State</td>\n",
    "        <td>location</td>\n",
    "        <td>&nbsp;&nbsp;&nbsp;&nbsp;&nbsp;✗</td>\n",
    "        <td>&nbsp;&nbsp;&nbsp;&nbsp;&nbsp;&nbsp;&nbsp;&nbsp;\n",
    "        &nbsp;&nbsp;&nbsp;&nbsp;&nbsp;&nbsp;&nbsp;&nbsp;\n",
    "        ✗</td>\n",
    "        <td>&nbsp;&nbsp;✓</td>\n",
    "        <td>&nbsp;&nbsp;&nbsp;&nbsp;&nbsp;&nbsp;&nbsp;&nbsp;✗</td>\n",
    "  </tr>\n",
    "        <td>Marketing Spend</td>\n",
    "        <td>costs</td>\n",
    "        <td>float</td>\n",
    "        <td>unbounded</td>\n",
    "        <td>&nbsp;&nbsp;✗</td>\n",
    "        <td>&nbsp;&nbsp;&nbsp;&nbsp;&nbsp;&nbsp;&nbsp;&nbsp;✓</td>\n",
    "  </tr>\n",
    "      <tr>\n",
    "        <td>Profit</td>\n",
    "        <td>income</td>\n",
    "        <td>float</td>\n",
    "        <td>unbounded</td>\n",
    "        <td>&nbsp;&nbsp;✗</td>\n",
    "        <td>&nbsp;&nbsp;&nbsp;&nbsp;&nbsp;&nbsp;&nbsp;&nbsp;✓</td>\n",
    "  </tr>\n",
    "</table>\n",
    "\n",
    "<b>next up is % of missing values</b>\n",
    "\n",
    "we will find the percentages using python\n",
    "first off we will format all missing datapoints to be NA so it is easier to do a missing value check:"
   ],
   "metadata": {
    "collapsed": false
   }
  },
  {
   "cell_type": "code",
   "execution_count": 835,
   "outputs": [],
   "source": [
    "attributes = datacopy.columns.tolist()\n",
    "\n",
    "for attribute in attributes:\n",
    "    datacopy[attribute] = datacopy[attribute].replace(0.00,pd.NA)"
   ],
   "metadata": {
    "collapsed": false,
    "pycharm": {
     "name": "#%%\n"
    }
   }
  },
  {
   "cell_type": "markdown",
   "source": [
    "Next we will find the actual percentages:"
   ],
   "metadata": {
    "collapsed": false
   }
  },
  {
   "cell_type": "code",
   "execution_count": 836,
   "outputs": [
    {
     "name": "stdout",
     "output_type": "stream",
     "text": [
      "R&D Spend has 4.0% missing datapoints\n",
      "\n",
      "Administration has 0.0% missing datapoints\n",
      "\n",
      "Marketing Spend has 6.0% missing datapoints\n",
      "\n",
      "State has 0.0% missing datapoints\n",
      "\n",
      "Profit has 0.0% missing datapoints\n",
      "\n"
     ]
    }
   ],
   "source": [
    "for attribute in attributes:\n",
    "    percentage = datacopy[attribute].isnull().sum()/len(datacopy[attribute])*100\n",
    "\n",
    "    print(str(attribute) + \" has \" + str(percentage) + \"% missing datapoints\\n\" )"
   ],
   "metadata": {
    "collapsed": false,
    "pycharm": {
     "name": "#%%\n"
    }
   }
  },
  {
   "cell_type": "markdown",
   "source": [
    "We can thereby see that R&D Spend has 4.0% missing datapoints\n",
    "\n",
    "and that Marketing Spend has 6.0% missing datapoints\n",
    "\n",
    "<br>\n",
    "\n",
    "<b>Noise:</b>\n",
    "<h1>N/A.</h1>\n",
    "\n",
    "\n",
    "<b>next we can check Usefulness for the task !!!!!!!!!!!!!!!!!!!!!!!!!!!!!!!!!!!!!!!!!!!!!!!!!!!!!!!!!!!!!!!!!!!!!!!!!!!!!!!!!!!!!!!!!!!!!!!!!!!!!!</b>\n",
    "\n",
    "<b>Type of distribution (Gaussian, uniform, logarithmic, etc.)</b>"
   ],
   "metadata": {
    "collapsed": false
   }
  },
  {
   "cell_type": "code",
   "execution_count": 837,
   "outputs": [],
   "source": [
    "import scipy.stats as st\n",
    "def get_best_distribution(data):\n",
    "    dist_names = ['gamma', 'beta', 'norm', 'pareto', 'invgauss']\n",
    "    dist_results = []\n",
    "    params = {}\n",
    "    for dist_name in dist_names:\n",
    "        dist = getattr(st, dist_name)\n",
    "        param = dist.fit(data)\n",
    "\n",
    "        params[dist_name] = param\n",
    "        d, p = st.kstest(data, dist_name, args=param)\n",
    "        dist_results.append((dist_name, p))\n",
    "\n",
    "    best_dist, best_p = (max(dist_results, key=lambda item: item[1]))\n",
    "\n",
    "    return best_dist, best_p, params[best_dist]"
   ],
   "metadata": {
    "collapsed": false,
    "pycharm": {
     "name": "#%%\n"
    }
   }
  },
  {
   "cell_type": "code",
   "execution_count": 838,
   "outputs": [
    {
     "name": "stderr",
     "output_type": "stream",
     "text": [
      "C:\\Users\\mikma\\anaconda3\\lib\\site-packages\\scipy\\stats\\_distn_infrastructure.py:2606: RuntimeWarning: invalid value encountered in double_scalars\n",
      "  Lhat = muhat - Shat*mu\n"
     ]
    },
    {
     "name": "stdout",
     "output_type": "stream",
     "text": [
      "R&D Spend is best fitted with a ('gamma', 0.8919844255407596, (47.66233913235425, -239375.7180789318, 6563.750058327867)) distribution \n",
      "\n"
     ]
    },
    {
     "name": "stderr",
     "output_type": "stream",
     "text": [
      "C:\\Users\\mikma\\anaconda3\\lib\\site-packages\\scipy\\stats\\_continuous_distns.py:639: RuntimeWarning: invalid value encountered in sqrt\n",
      "  sk = 2*(b-a)*np.sqrt(a + b + 1) / (a + b + 2) / np.sqrt(a*b)\n"
     ]
    },
    {
     "name": "stdout",
     "output_type": "stream",
     "text": [
      "Administration is best fitted with a ('beta', 0.9617333703647903, (377.4866323591043, 15.391806410090716, -2604688.6415276844, 2837183.583877201)) distribution \n",
      "\n",
      "Marketing Spend is best fitted with a ('norm', 0.8282902838558235, (211025.09780000002, 121061.23118271725)) distribution \n",
      "\n",
      "An exception occurred\n",
      "Profit is best fitted with a ('gamma', 0.8284819413526889, (7500.627408423683, -3343742.0595118664, 460.72841186793653)) distribution \n",
      "\n"
     ]
    }
   ],
   "source": [
    "\n",
    "\n",
    "for attribute in attributes:\n",
    "    try:\n",
    "        print(str(attribute) + \" is best fitted with a \" + str(get_best_distribution(dataset[attribute])) + \" distribution \\n\")\n",
    "    except:\n",
    "        print(\"An exception occurred\")"
   ],
   "metadata": {
    "collapsed": false,
    "pycharm": {
     "name": "#%%\n"
    }
   }
  },
  {
   "cell_type": "markdown",
   "source": [
    "Thereby we can see that the attributes have the following distributions\n",
    "<ul>\n",
    "<li>R&D Spend: Gamma distributed</li>\n",
    "<li>Administration: Beta distributed</li>\n",
    "<li>Marketing Spend: Normal distributed</li>\n",
    "<li>State: non numeric</li>\n",
    "<li>Profit: Gamma distributed</li>\n",
    "</ul>"
   ],
   "metadata": {
    "collapsed": false
   }
  },
  {
   "cell_type": "markdown",
   "source": [
    "<b>Finally the histograms for each attribute</b>"
   ],
   "metadata": {
    "collapsed": false
   }
  },
  {
   "cell_type": "code",
   "execution_count": 839,
   "outputs": [
    {
     "data": {
      "text/plain": "<Figure size 432x288 with 1 Axes>",
      "image/png": "[encoded data removed]"
     },
     "metadata": {
      "needs_background": "light"
     },
     "output_type": "display_data"
    },
    {
     "data": {
      "text/plain": "<Figure size 432x288 with 1 Axes>",
      "image/png": "[encoded data removed]"
     },
     "metadata": {
      "needs_background": "light"
     },
     "output_type": "display_data"
    },
    {
     "data": {
      "text/plain": "<Figure size 432x288 with 1 Axes>",
      "image/png": "[encoded data removed]"
     },
     "metadata": {
      "needs_background": "light"
     },
     "output_type": "display_data"
    },
    {
     "data": {
      "text/plain": "<Figure size 432x288 with 1 Axes>",
      "image/png": "[encoded data removed]"
     },
     "metadata": {
      "needs_background": "light"
     },
     "output_type": "display_data"
    },
    {
     "data": {
      "text/plain": "<Figure size 432x288 with 1 Axes>",
      "image/png": "[encoded data removed]"
     },
     "metadata": {
      "needs_background": "light"
     },
     "output_type": "display_data"
    }
   ],
   "source": [
    "import matplotlib.pyplot as plt\n",
    "\n",
    "for attribute in attributes:\n",
    "    plt.hist(dataset[attribute])\n",
    "    plt.show()"
   ],
   "metadata": {
    "collapsed": false,
    "pycharm": {
     "name": "#%%\n"
    }
   }
  },
  {
   "cell_type": "markdown",
   "source": [
    "#### <u>Step 3.4: Solution</u> <a id=\"a3.4s\"></a>"
   ],
   "metadata": {
    "collapsed": false,
    "pycharm": {
     "name": "#%% md\n"
    }
   }
  },
  {
   "cell_type": "markdown",
   "source": [
    "#### <u>Step 3.5: Solution</u> <a id=\"a3.5s\"></a>"
   ],
   "metadata": {
    "collapsed": false
   }
  },
  {
   "cell_type": "code",
   "execution_count": 840,
   "outputs": [
    {
     "data": {
      "text/plain": "<Figure size 432x288 with 1 Axes>",
      "image/png": "[encoded data removed]"
     },
     "metadata": {
      "needs_background": "light"
     },
     "output_type": "display_data"
    },
    {
     "data": {
      "text/plain": "<Figure size 432x288 with 1 Axes>",
      "image/png": "[encoded data removed]"
     },
     "metadata": {
      "needs_background": "light"
     },
     "output_type": "display_data"
    },
    {
     "data": {
      "text/plain": "<Figure size 432x288 with 1 Axes>",
      "image/png": "[encoded data removed]"
     },
     "metadata": {
      "needs_background": "light"
     },
     "output_type": "display_data"
    },
    {
     "data": {
      "text/plain": "<Figure size 432x288 with 1 Axes>",
      "image/png": "[encoded data removed]"
     },
     "metadata": {
      "needs_background": "light"
     },
     "output_type": "display_data"
    }
   ],
   "source": [
    "import matplotlib.pyplot as plt\n",
    "\n",
    "attributes.remove('State')\n",
    "\n",
    "for attribute in attributes:\n",
    "    plt.scatter(dataset.index, dataset[attribute])\n",
    "    plt.show()"
   ],
   "metadata": {
    "collapsed": false,
    "pycharm": {
     "name": "#%%\n"
    }
   }
  },
  {
   "cell_type": "markdown",
   "source": [
    "#### <u>Step 3.6: Solution</u> <a id=\"a3.6s\"></a>\n",
    "correlations !!!!!!!!!!!!!!!!!!!!!!!!!!!!!!!!!!!!!!!!!!!!!!!!!!!!!!!!!!!!!!!!!!!!!!!!!!!!!!\n",
    "\n",
    "correlation matrix plot:"
   ],
   "metadata": {
    "collapsed": false
   }
  },
  {
   "cell_type": "code",
   "execution_count": 841,
   "outputs": [
    {
     "data": {
      "text/plain": "array([[<AxesSubplot:xlabel='R&D Spend', ylabel='R&D Spend'>,\n        <AxesSubplot:xlabel='Administration', ylabel='R&D Spend'>,\n        <AxesSubplot:xlabel='Marketing Spend', ylabel='R&D Spend'>,\n        <AxesSubplot:xlabel='Profit', ylabel='R&D Spend'>],\n       [<AxesSubplot:xlabel='R&D Spend', ylabel='Administration'>,\n        <AxesSubplot:xlabel='Administration', ylabel='Administration'>,\n        <AxesSubplot:xlabel='Marketing Spend', ylabel='Administration'>,\n        <AxesSubplot:xlabel='Profit', ylabel='Administration'>],\n       [<AxesSubplot:xlabel='R&D Spend', ylabel='Marketing Spend'>,\n        <AxesSubplot:xlabel='Administration', ylabel='Marketing Spend'>,\n        <AxesSubplot:xlabel='Marketing Spend', ylabel='Marketing Spend'>,\n        <AxesSubplot:xlabel='Profit', ylabel='Marketing Spend'>],\n       [<AxesSubplot:xlabel='R&D Spend', ylabel='Profit'>,\n        <AxesSubplot:xlabel='Administration', ylabel='Profit'>,\n        <AxesSubplot:xlabel='Marketing Spend', ylabel='Profit'>,\n        <AxesSubplot:xlabel='Profit', ylabel='Profit'>]], dtype=object)"
     },
     "execution_count": 841,
     "metadata": {},
     "output_type": "execute_result"
    },
    {
     "data": {
      "text/plain": "<Figure size 432x288 with 16 Axes>",
      "image/png": "[encoded data removed]"
     },
     "metadata": {
      "needs_background": "light"
     },
     "output_type": "display_data"
    }
   ],
   "source": [
    "pd.plotting.scatter_matrix(dataset, alpha=0.2)"
   ],
   "metadata": {
    "collapsed": false,
    "pycharm": {
     "name": "#%%\n"
    }
   }
  },
  {
   "cell_type": "markdown",
   "source": [
    "#### <u>Step 3.7: Solution</u> <a id=\"a3.7s\"></a>"
   ],
   "metadata": {
    "collapsed": false
   }
  }
 ],
 "metadata": {
  "kernelspec": {
   "display_name": "Python 3",
   "language": "python",
   "name": "python3"
  },
  "language_info": {
   "codemirror_mode": {
    "name": "ipython",
    "version": 2
   },
   "file_extension": ".py",
   "mimetype": "text/x-python",
   "name": "python",
   "nbconvert_exporter": "python",
   "pygments_lexer": "ipython2",
   "version": "2.7.6"
  }
 },
 "nbformat": 4,
 "nbformat_minor": 0
}